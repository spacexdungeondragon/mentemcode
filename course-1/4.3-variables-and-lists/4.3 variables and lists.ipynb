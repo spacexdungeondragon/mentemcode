{
 "cells": [
  {
   "cell_type": "markdown",
   "id": "8da76d62",
   "metadata": {},
   "source": [
    "Variables\n",
    "Perform the following tasks in the \"main.py\" notebook:\n",
    "\n",
    "Create two variables, a and b: assign the value of 10 to a and 20 to b \n",
    "\n",
    "Create a variable c and assign it the sum of a and b \n",
    "\n",
    "Print c \n",
    "\n",
    "Check if the sum of a and b is the same value as c using the comparison operator ==\n",
    "\n",
    "Assign the result to compare_sums\n",
    "\n",
    "If you get stuck, refer to \"main_solved.py\" to help with coding in \"main.py.\"\n",
    "\n",
    "Note: To complete this activity click the Submit/Mark button in the bottom right corner. These activities are for your own practice in a coding environment and are not assessed. If you have any questions about an activity, please ask your facilitator in a live session or on the Discussion board. "
   ]
  },
  {
   "cell_type": "code",
   "execution_count": 1,
   "id": "d6239cb1",
   "metadata": {},
   "outputs": [
    {
     "name": "stdout",
     "output_type": "stream",
     "text": [
      "30\n"
     ]
    }
   ],
   "source": [
    "a, b = 10, 20\n",
    "\n",
    "c = a + b\n",
    "\n",
    "print(c)\n",
    "\n",
    "compare_sums = c == a + b"
   ]
  },
  {
   "cell_type": "markdown",
   "id": "85ab6e5d",
   "metadata": {},
   "source": [
    "Lists: Create and manipulate a list\n",
    "Perform the following tasks in the \"main.py\" notebook:\n",
    "\n",
    "Create a list called numbers containing the values 1, 2, 3, 4, 5\n",
    "\n",
    "Add the number 6 to numbers using the insert() function\n",
    "\n",
    "Print numbers\n",
    "\n",
    "If you get stuck, refer to \"main_solved.py\" to help with coding in \"main.py.\"\n",
    "\n",
    "Note: To complete this activity click the Submit/Mark button in the bottom right corner. These activities are for your own practice in a coding environment and are not assessed. If you have any questions about an activity, please ask your facilitator in a live session or on the Discussion board. "
   ]
  },
  {
   "cell_type": "code",
   "execution_count": 2,
   "id": "3e5f0d43",
   "metadata": {},
   "outputs": [
    {
     "name": "stdout",
     "output_type": "stream",
     "text": [
      "[1, 2, 3, 4, 5, 6]\n"
     ]
    }
   ],
   "source": [
    "numbers = [1, 2, 3, 4, 5]\n",
    "\n",
    "numbers.insert(5, 6)\n",
    "\n",
    "print(numbers)"
   ]
  },
  {
   "cell_type": "markdown",
   "id": "50b4f3c9",
   "metadata": {},
   "source": [
    "Combining variables and lists\n",
    "Perform the following tasks in the \"main.py\" notebook:\n",
    "\n",
    "Create a string variable called name and assign it your name\n",
    "\n",
    "Create a list called letters containing each character in name as a separate item. Hint: You can convert a string to a list of characters by using list(your_string)\n",
    "\n",
    "Print the list letters\n",
    "\n",
    "Count how many times the first letter of your name appears in the list letters and store the result in a variable count. Hint: You can count the number of occurrences of specific items in a list using the count() function, like this: letters.count(the first letter of your name)\n",
    "\n",
    "Print count\n",
    "\n",
    "If you get stuck, refer to \"main_solved.py\" to help with coding in \"main.py.\"\n",
    "\n",
    "Note: To complete this activity click the Submit/Mark button in the bottom right corner. These activities are for your own practice in a coding environment and are not assessed. If you have any questions about an activity, please ask your facilitator in a live session or on the Discussion board. "
   ]
  },
  {
   "cell_type": "code",
   "execution_count": 3,
   "id": "aa2d368c",
   "metadata": {},
   "outputs": [
    {
     "name": "stdout",
     "output_type": "stream",
     "text": [
      "['B', 'i', 'l', 'l']\n",
      "1\n"
     ]
    }
   ],
   "source": [
    "name = 'Bill'\n",
    "\n",
    "letters = list(name)\n",
    "\n",
    "print(letters)\n",
    "\n",
    "count = letters.count(letters[0])\n",
    "\n",
    "print(count)"
   ]
  },
  {
   "cell_type": "code",
   "execution_count": 1,
   "id": "bf324417",
   "metadata": {},
   "outputs": [
    {
     "name": "stdout",
     "output_type": "stream",
     "text": [
      "['J', 'i', 'm', 'i', 'n', 'y', ' ', 'C', 'r', 'i', 'c', 'k', 'e', 't']\n",
      "1\n"
     ]
    }
   ],
   "source": [
    "name = 'Jiminy Cricket'\n",
    "\n",
    "letters = list(name)\n",
    "\n",
    "print(letters)\n",
    "\n",
    "count = letters.count(letters[0])\n",
    "\n",
    "print(count)"
   ]
  }
 ],
 "metadata": {
  "kernelspec": {
   "display_name": "mentem",
   "language": "python",
   "name": "python3"
  },
  "language_info": {
   "codemirror_mode": {
    "name": "ipython",
    "version": 3
   },
   "file_extension": ".py",
   "mimetype": "text/x-python",
   "name": "python",
   "nbconvert_exporter": "python",
   "pygments_lexer": "ipython3",
   "version": "3.13.2"
  }
 },
 "nbformat": 4,
 "nbformat_minor": 5
}
