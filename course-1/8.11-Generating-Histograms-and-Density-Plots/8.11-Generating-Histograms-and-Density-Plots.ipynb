{
 "cells": [
  {
   "cell_type": "markdown",
   "id": "f40c30f2",
   "metadata": {},
   "source": [
    "Creating histograms and Density Plots in Python\n",
    "Use Python libraries to generate histograms and density plots.\n",
    "\n",
    "Note: To complete this activity click the Submit/Mark button in the bottom right corner. These activities are for your own practice in a coding environment and are not assessed. If you have any questions about an activity, please ask your facilitator in a live session or on the Discussion board. "
   ]
  },
  {
   "cell_type": "markdown",
   "id": "c6d318b4",
   "metadata": {},
   "source": []
  },
  {
   "cell_type": "markdown",
   "id": "7538b5f8",
   "metadata": {},
   "source": [
    "Exercise – Visualising Age distribution\n",
    "Note: To complete this activity click the Submit/Mark button in the bottom right corner. These activities are for your own practice in a coding environment and are not assessed. If you have any questions about an activity, please ask your facilitator in a live session or on the Discussion board. "
   ]
  },
  {
   "cell_type": "markdown",
   "id": "6d769276",
   "metadata": {},
   "source": []
  }
 ],
 "metadata": {
  "language_info": {
   "name": "python"
  }
 },
 "nbformat": 4,
 "nbformat_minor": 5
}
