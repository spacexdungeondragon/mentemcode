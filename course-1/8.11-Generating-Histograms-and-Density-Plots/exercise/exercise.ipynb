{
 "cells": [
  {
   "cell_type": "markdown",
   "id": "d4640f8a",
   "metadata": {},
   "source": [
    "Exercise – Visualising Age distribution\n",
    "Note: To complete this activity click the Submit/Mark button in the bottom right corner. These activities are for your own practice in a coding environment and are not assessed. If you have any questions about an activity, please ask your facilitator in a live session or on the Discussion board. "
   ]
  },
  {
   "cell_type": "markdown",
   "id": "be920eed",
   "metadata": {},
   "source": []
  }
 ],
 "metadata": {
  "language_info": {
   "name": "python"
  }
 },
 "nbformat": 4,
 "nbformat_minor": 5
}
