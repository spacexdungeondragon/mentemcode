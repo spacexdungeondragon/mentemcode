{
    "cells": [
        {
            "cell_type": "code",
            "execution_count": 1,
            "metadata": {},
            "outputs": [],
            "source": [
                "import numpy as np\n",
                "from sklearn.model_selection import KFold\n",
                " \n"
            ]
        },
        {
            "cell_type": "code",
            "execution_count": 2,
            "metadata": {},
            "outputs": [],
            "source": [
                "# Generating synthetic data\n",
                "np.random.seed(0)\n",
                "X = np.random.rand(10, 1)  # Feature variable\n",
                " \n"
            ]
        },
        {
            "cell_type": "code",
            "execution_count": 3,
            "metadata": {},
            "outputs": [
                {
                    "name": "stdout",
                    "output_type": "stream",
                    "text": [
                        "\n",
                        "Fold 1:\n",
                        "Training indices: [0 2 3 4 5 6 7 9]\n",
                        "Validation indices: [1 8]\n",
                        "\n",
                        "Fold 2:\n",
                        "Training indices: [1 2 3 4 6 7 8 9]\n",
                        "Validation indices: [0 5]\n",
                        "\n",
                        "Fold 3:\n",
                        "Training indices: [0 1 3 4 5 6 8 9]\n",
                        "Validation indices: [2 7]\n",
                        "\n",
                        "Fold 4:\n",
                        "Training indices: [0 1 2 3 5 6 7 8]\n",
                        "Validation indices: [4 9]\n",
                        "\n",
                        "Fold 5:\n",
                        "Training indices: [0 1 2 4 5 7 8 9]\n",
                        "Validation indices: [3 6]\n"
                    ]
                }
            ],
            "source": [
                "# Performing 5-fold cross-validation without fitting any function\n",
                "kf = KFold(n_splits=5, shuffle=True, random_state=42)\n",
                " \n",
                "fold_number = 1\n",
                "for train_index, val_index in kf.split(X):\n",
                "    print(f\"\\nFold {fold_number}:\")\n",
                "    print(\"Training indices:\", train_index)\n",
                "    print(\"Validation indices:\", val_index)\n",
                " \n",
                "    # Use the indices to access the data if needed\n",
                "    X_train, X_val = X[train_index], X[val_index]\n",
                " \n",
                "    # Optionally, you can perform any analysis or operations on the training and validation sets\n",
                "    # ...\n",
                " \n",
                "    fold_number += 1\n",
                "\n",
                "#Fold 1:\n",
                "#Training indices: [0  2  3  4  5  6  7  9]\n",
                "#Validation indices: [1 8]\n",
                "\n",
                "#Fold 2:\n",
                "#Training indices: [1  2  3  4  6  7  8  9]\n",
                "#Validation indices: [0 5]\n",
                "\n",
                "#Fold 3:\n",
                "#Training indices: [0  1  3  4  5  6  8  9]\n",
                "#Validation indices: [2 7]\n",
                "\n",
                "#Fold 4:\n",
                "#Training indices: [0  1  2  3  5  6  7  8]\n",
                "#Validation indices: [4  9]\n",
                "\n",
                "#Fold 5:\n",
                "#Training indices: [0  1  2  4  5  7  8  9]\n",
                "#Validation indices: [3  6]"
            ]
        }
    ],
    "metadata": {
        "kernelspec": {
            "display_name": "mentem",
            "language": "python",
            "name": "python3"
        },
        "language_info": {
            "codemirror_mode": {
                "name": "ipython",
                "version": 3
            },
            "file_extension": ".py",
            "mimetype": "text/x-python",
            "name": "python",
            "nbconvert_exporter": "python",
            "pygments_lexer": "ipython3",
            "version": "3.13.2"
        }
    },
    "nbformat": 4,
    "nbformat_minor": 2
}
