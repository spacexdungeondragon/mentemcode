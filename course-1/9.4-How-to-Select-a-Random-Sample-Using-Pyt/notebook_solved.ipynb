{
 "cells": [
  {
   "cell_type": "markdown",
   "metadata": {},
   "source": [
    "## Function 1: random.choices()\n",
    "\n",
    "### Explanation\n",
    "The `random.choices()` function selects elements randomly from a given sequence with replacement.\n",
    "It supports weighting, allowing you to influence the probability of each element being chosen.\n",
    "\n",
    "### Inputs:\n",
    "- `population`: The list of elements to choose from.\n",
    "- `weights` (optional): A list of weights corresponding to each element in the population.\n",
    "- `k`: The number of elements to choose.\n",
    "\n",
    "### Output:\n",
    "- A list of randomly chosen elements.\n"
   ]
  },
  {
   "cell_type": "code",
   "execution_count": 1,
   "metadata": {},
   "outputs": [
    {
     "name": "stdout",
     "output_type": "stream",
     "text": [
      "['cherry', 'cherry', 'banana']\n"
     ]
    }
   ],
   "source": [
    "import random\n",
    "# Define a list of items\n",
    "items = ['apple', 'banana', 'cherry', 'date']\n",
    "# Select 3 items randomly with replacement\n",
    "selected_items = random.choices(items, weights=[1, 2, 3, 4], k=3)\n",
    "print(selected_items)"
   ]
  },
  {
   "cell_type": "markdown",
   "metadata": {},
   "source": [
    "## Function 2: numpy.random.choice()\n",
    "\n",
    "### Explanation\n",
    "The `numpy.random.choice()` function is similar to `random.choices()` but works efficiently with NumPy arrays.\n",
    "It allows weighted probabilities and sampling without replacement.\n",
    "\n",
    "### Inputs:\n",
    "- `a`: The array or range to sample from.\n",
    "- `size`: The number of elements to sample.\n",
    "- `replace`: Whether to allow repeated selections.\n",
    "- `p` (optional): Probabilities associated with each element.\n",
    "\n",
    "### Output:\n",
    "- A NumPy array containing the sampled elements.\n"
   ]
  },
  {
   "cell_type": "code",
   "execution_count": 2,
   "metadata": {},
   "outputs": [
    {
     "name": "stdout",
     "output_type": "stream",
     "text": [
      "[40 50]\n"
     ]
    }
   ],
   "source": [
    "import numpy as np\n",
    "# Define an array of numbers\n",
    "numbers = np.array([10, 20, 30, 40, 50])\n",
    "# Select 2 elements randomly without replacement\n",
    "selected_numbers = np.random.choice(numbers, size=2, replace=False)\n",
    "print(selected_numbers)"
   ]
  },
  {
   "cell_type": "markdown",
   "metadata": {},
   "source": [
    "## Function 3: pandas.DataFrame.sample()\n",
    "\n",
    "### Explanation\n",
    "The `pandas.DataFrame.sample()` method is useful for selecting random rows from a DataFrame.\n",
    "It allows sampling with or without replacement and can use weights.\n",
    "\n",
    "### Inputs:\n",
    "- `n`: The number of rows to sample.\n",
    "- `frac`: Fraction of total rows to sample.\n",
    "- `replace`: Whether sampling should be with replacement.\n",
    "- `weights` (optional): Column specifying weights.\n",
    "\n",
    "### Output:\n",
    "- A DataFrame containing the sampled rows.\n"
   ]
  },
  {
   "cell_type": "code",
   "execution_count": 3,
   "metadata": {},
   "outputs": [
    {
     "name": "stdout",
     "output_type": "stream",
     "text": [
      "    Name  Score\n",
      "4    Eva     88\n",
      "3  David     92\n"
     ]
    }
   ],
   "source": [
    "import pandas as pd\n",
    "# Create a sample DataFrame\n",
    "data = pd.DataFrame({'Name': ['Alice', 'Bob', 'Charlie', 'David', 'Eva'],\n",
    "                       'Score': [85, 90, 78, 92, 88]})\n",
    "# Select 2 random rows\n",
    "random_rows = data.sample(n=2)\n",
    "print(random_rows)"
   ]
  }
 ],
 "metadata": {
  "kernelspec": {
   "display_name": "mentem",
   "language": "python",
   "name": "python3"
  },
  "language_info": {
   "codemirror_mode": {
    "name": "ipython",
    "version": 3
   },
   "file_extension": ".py",
   "mimetype": "text/x-python",
   "name": "python",
   "nbconvert_exporter": "python",
   "pygments_lexer": "ipython3",
   "version": "3.13.2"
  }
 },
 "nbformat": 4,
 "nbformat_minor": 2
}
