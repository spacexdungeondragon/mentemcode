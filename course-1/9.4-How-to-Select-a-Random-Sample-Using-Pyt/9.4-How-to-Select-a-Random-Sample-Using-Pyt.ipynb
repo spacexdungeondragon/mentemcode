{
 "cells": [
  {
   "cell_type": "markdown",
   "id": "79443b9a",
   "metadata": {},
   "source": [
    "Exploring Python random selection functions\n",
    "Research and identify three Python random selection functions that are not covered in the course content. You can explore Python's random module and other related libraries like NumPy or pandas. For each function, provide an explanation of its usage, input parameters, and output. You should understand what the function does and how it can be applied in real-world scenarios.\n",
    "\n",
    "Write code examples for each of the selected random selection functions. Include comments to explain what each part of the code does. Experiment with different inputs and options to see how the functions behave. Try to showcase the versatility and applicability of each function.\n",
    "\n",
    "Discuss any advantages or unique features of each function compared to the functions covered in the course content. Share your findings and code examples on the Discussion Board in Canvas with your colleagues, and discuss potential use cases for these functions in data analysis, statistics, or machine learning.\n",
    "\n",
    "Note: To complete this activity click the Submit/Mark button in the bottom right corner. These activities are for your own practice in a coding environment and are not assessed. If you have any questions about an activity, please ask your facilitator in a live session or on the Discussion board. "
   ]
  },
  {
   "cell_type": "markdown",
   "id": "96cdd6fc",
   "metadata": {},
   "source": []
  }
 ],
 "metadata": {
  "language_info": {
   "name": "python"
  }
 },
 "nbformat": 4,
 "nbformat_minor": 5
}
