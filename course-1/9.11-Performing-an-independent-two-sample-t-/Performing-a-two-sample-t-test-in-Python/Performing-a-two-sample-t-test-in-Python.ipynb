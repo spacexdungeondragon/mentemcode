{
 "cells": [
  {
   "cell_type": "markdown",
   "id": "a7f2deb6",
   "metadata": {},
   "source": [
    "Performing a two-sample t-test in Python\n",
    "Using the Melbourne Housing Price dataset, calculate the mean price in each suburb in 2017 and 2018. You will then test to see whether the mean difference in prices between the years is $0.\n",
    "\n",
    "The p-value of 0.82 is larger than any typical level of significance. You therefore fail to reject the null hypothesis. There is insufficient evidence that the mean difference in prices of houses in Melbourne differed from $0 between 2017 and 2018.\n",
    "\n",
    "When you have completed the activities, return to the topic page in Canvas.\n",
    "\n",
    "If you get stuck, refer to \"main_solved.py\" to help with coding in \"main.py\"."
   ]
  },
  {
   "cell_type": "code",
   "execution_count": 1,
   "id": "5db56307",
   "metadata": {},
   "outputs": [
    {
     "name": "stdout",
     "output_type": "stream",
     "text": [
      "TtestResult(statistic=np.float64(0.2301607243955013), pvalue=np.float64(0.8181107945564158), df=np.int64(327))\n"
     ]
    }
   ],
   "source": [
    "import pandas as pd\n",
    "import numpy as np\n",
    "import scipy \n",
    "from datetime import datetime \n",
    "\n",
    "melb_house = pd.read_csv(\"MELBOURNE_HOUSE_PRICES_LESS.csv\")\n",
    "\n",
    "melb_house['Date'] = pd.to_datetime(melb_house['Date'], dayfirst=True)\n",
    "melb_house['year'] = melb_house['Date'].dt.year\n",
    "\n",
    "melb_subset = melb_house[(melb_house['year'] >= 2017) & (melb_house['year'] <= 2018) & (melb_house['Type'] == 'h') & (~melb_house['Price'].isna())]\n",
    "result = melb_subset.groupby(['year', 'Suburb'])['Price'].agg(mean='mean').reset_index()\n",
    "\n",
    "wide_form = result.pivot(index='Suburb', columns='year', values='mean')\n",
    "\n",
    "# Filter out rows where either 2017 or 2018 is missing\n",
    "filtered = wide_form.dropna(subset=[2017, 2018])\n",
    "\n",
    "# Reshape the data to a long format\n",
    "long_form = filtered.reset_index().melt(id_vars='Suburb', var_name='year', value_name='mean')\n",
    "melb_2017 = long_form[(long_form['year'] == 2017)]\n",
    "melb_2018 = long_form[(long_form['year'] == 2018)]\n",
    "\n",
    "result = scipy.stats.ttest_rel(melb_2017['mean'], melb_2018['mean'])\n",
    "print(result)\n"
   ]
  },
  {
   "cell_type": "markdown",
   "id": "9866a8f6",
   "metadata": {},
   "source": []
  }
 ],
 "metadata": {
  "kernelspec": {
   "display_name": "mentem",
   "language": "python",
   "name": "python3"
  },
  "language_info": {
   "codemirror_mode": {
    "name": "ipython",
    "version": 3
   },
   "file_extension": ".py",
   "mimetype": "text/x-python",
   "name": "python",
   "nbconvert_exporter": "python",
   "pygments_lexer": "ipython3",
   "version": "3.13.2"
  }
 },
 "nbformat": 4,
 "nbformat_minor": 5
}
