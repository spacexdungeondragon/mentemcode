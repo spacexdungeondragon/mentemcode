{
 "cells": [
  {
   "cell_type": "markdown",
   "id": "748d2c0c",
   "metadata": {},
   "source": [
    "Performing an independent two-sample t-test in Python\n",
    "Using the bank dataset, to perform an independent two-sample t-test in Python. A bank wishes to see whether managers and technicians have different bank balances and draws two samples from among its customers. The means of the two samples were compared and a p-value was calculated.\n",
    "\n",
    "First Step: State the null and alternative hypotheses\n",
    "\n",
    "H0 : μ1 =μ2 or μ1 −μ2 =0\n",
    "\n",
    "HA : μ1 not equal to μ2​ or μ 1 −μ 2 not equal to 0\n",
    "\n",
    "The p-value of 0.260 is larger than any typical level of significance, therefore you fail to reject the null hypothesis. There is insufficient evidence to suggest that managers and technicians have different sized bank accounts.\n",
    "\n",
    "When you have completed the activities, return to the topic page in Canvas.\n",
    "\n",
    "If you get stuck, refer to \"main_solved.py\" to help with coding in \"main.py\"."
   ]
  },
  {
   "cell_type": "code",
   "execution_count": 1,
   "id": "7d5b2127",
   "metadata": {},
   "outputs": [
    {
     "name": "stdout",
     "output_type": "stream",
     "text": [
      "TtestResult(statistic=np.float64(1.1302460397254794), pvalue=np.float64(0.25973984340226935), df=np.float64(198.0))\n"
     ]
    }
   ],
   "source": [
    "import pandas as pd\n",
    "import numpy as np\n",
    "from scipy.stats import ttest_ind\n",
    "\n",
    "bank = pd.read_csv(\"bank.csv\")\n",
    "\n",
    "# Subset to Managers and Technicians \n",
    "managers = bank[(bank['job'] == 'management')]\n",
    "technicians = bank[(bank['job'] == 'technician')]\n",
    "\n",
    "# Set a random seed and draw samples of size 100\n",
    "np.random.seed(1234)\n",
    "manager_samp = managers.sample(n = 100, replace = False)['balance']\n",
    "tech_samp = technicians.sample(n = 100, replace = False)['balance']\n",
    "\n",
    "# Perform an Independent Two-Sample T-Test \n",
    "ttest_result = ttest_ind(manager_samp, tech_samp)\n",
    "print(ttest_result)"
   ]
  },
  {
   "cell_type": "markdown",
   "id": "d1faf2c0",
   "metadata": {},
   "source": []
  }
 ],
 "metadata": {
  "kernelspec": {
   "display_name": "mentem",
   "language": "python",
   "name": "python3"
  },
  "language_info": {
   "codemirror_mode": {
    "name": "ipython",
    "version": 3
   },
   "file_extension": ".py",
   "mimetype": "text/x-python",
   "name": "python",
   "nbconvert_exporter": "python",
   "pygments_lexer": "ipython3",
   "version": "3.13.2"
  }
 },
 "nbformat": 4,
 "nbformat_minor": 5
}
