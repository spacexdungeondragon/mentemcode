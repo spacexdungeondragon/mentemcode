{
 "cells": [
  {
   "cell_type": "markdown",
   "id": "f58c31d0",
   "metadata": {},
   "source": [
    "Exercise: Manipulating Data Types in Python\n",
    "In the \"main.py\" notebook, perform the following tasks. Given the following table employees, create three new columns containing the start Year, Month and Day from the column StartDate.\n",
    "\n",
    "Hint: Once correctly formatted into a date-time format, information from a date column can be extracted as follows:\n",
    "\n",
    "df['Month'] = df['Date'].dt.month\n",
    "If you get stuck, refer to \"main_solved.py\" to help with coding in \"main.py.\"\n",
    "\n",
    "Note: To complete this activity click the Submit/Mark button in the bottom right corner. These activities are for your own practice in a coding environment and are not assessed. If you have any questions about an activity, please ask your facilitator in a live session or on the Discussion board. "
   ]
  },
  {
   "cell_type": "code",
   "execution_count": 1,
   "id": "b4c12e6f",
   "metadata": {},
   "outputs": [
    {
     "name": "stdout",
     "output_type": "stream",
     "text": [
      "   EmployeeID   Name  Age Department  Gender   StartDate  Year  Month  Day\n",
      "0           1   Fred   55    Finance    Male  01-01-2010  2010      1    1\n",
      "1           2   Ming   32  Marketing  Female  05-08-2023  2023      8    5\n",
      "2           3  Peter   25    Product    Male  16-11-2015  2015     11   16\n"
     ]
    }
   ],
   "source": [
    "import unittest\n",
    "import pandas as pd\n",
    "from datetime import datetime\n",
    "\n",
    "employees = pd.DataFrame({\n",
    "    'EmployeeID': [1, 2, 3],\n",
    "    'Name': ['Fred', 'Ming', 'Peter'],\n",
    "    'Age': [55, 32, 25],\n",
    "    'Department': ['Finance', 'Marketing', 'Product'],\n",
    "    'Gender': ['Male', 'Female', 'Male'],\n",
    "    'StartDate': ['01-01-2010', '05-08-2023', '16-11-2015'],\n",
    "})\n",
    "\n",
    "for x in range(len(employees)):\n",
    "    datetimeObj = datetime.strptime(employees.at[x, 'StartDate'], '%d-%m-%Y')\n",
    "    employees.at[x, 'Year'] = datetimeObj.year\n",
    "    employees.at[x, 'Month'] = datetimeObj.month\n",
    "    employees.at[x, 'Day'] = datetimeObj.day\n",
    "\n",
    "employees = employees.astype({'Year': 'int', 'Month': 'int', 'Day': 'int'})\n",
    "\n",
    "print(employees)"
   ]
  },
  {
   "cell_type": "markdown",
   "id": "f65cd94f",
   "metadata": {},
   "source": []
  }
 ],
 "metadata": {
  "kernelspec": {
   "display_name": "mentem",
   "language": "python",
   "name": "python3"
  },
  "language_info": {
   "codemirror_mode": {
    "name": "ipython",
    "version": 3
   },
   "file_extension": ".py",
   "mimetype": "text/x-python",
   "name": "python",
   "nbconvert_exporter": "python",
   "pygments_lexer": "ipython3",
   "version": "3.13.2"
  }
 },
 "nbformat": 4,
 "nbformat_minor": 5
}
