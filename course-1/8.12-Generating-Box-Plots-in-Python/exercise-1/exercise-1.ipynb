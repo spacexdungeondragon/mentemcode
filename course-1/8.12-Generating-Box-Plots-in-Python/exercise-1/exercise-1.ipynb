{
 "cells": [
  {
   "cell_type": "markdown",
   "id": "c7d4368b",
   "metadata": {},
   "source": [
    "Exercise 1: Basic Plot\n",
    "Using the Customer-Churn-Records dataset (already loaded as df), plot a box plot for the 'CreditScore' column using Matplotlib in the \"main.py\" notebook. Customise your plot by setting the width of the box to 0.5, making the box horizontal, and setting the face colour of the box to green with an alpha value of 0.6. Give the chart an appropriate title and axis labels.\n",
    "\n",
    "If you get stuck, refer to \"main_solved.py\" to help with coding in \"main.py.\"\n",
    "\n",
    "Note: To complete this activity click the Submit/Mark button in the bottom right corner. These activities are for your own practice in a coding environment and are not assessed. If you have any questions about an activity, please ask your facilitator in a live session or on the Discussion board. "
   ]
  },
  {
   "cell_type": "markdown",
   "id": "ec7e19bb",
   "metadata": {},
   "source": []
  }
 ],
 "metadata": {
  "language_info": {
   "name": "python"
  }
 },
 "nbformat": 4,
 "nbformat_minor": 5
}
