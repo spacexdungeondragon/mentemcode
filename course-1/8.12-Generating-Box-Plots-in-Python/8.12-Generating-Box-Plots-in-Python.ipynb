{
 "cells": [
  {
   "cell_type": "markdown",
   "id": "8588924b",
   "metadata": {},
   "source": [
    "Creating a Box Plot Using Matplotlib\n",
    "Note: To complete this activity click the Submit/Mark button in the bottom right corner. These activities are for your own practice in a coding environment and are not assessed. If you have any questions about an activity, please ask your facilitator in a live session or on the Discussion board. "
   ]
  },
  {
   "cell_type": "markdown",
   "id": "c7361a2e",
   "metadata": {},
   "source": []
  }
 ],
 "metadata": {
  "language_info": {
   "name": "python"
  }
 },
 "nbformat": 4,
 "nbformat_minor": 5
}
