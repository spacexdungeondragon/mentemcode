{
 "cells": [
  {
   "cell_type": "markdown",
   "id": "3a2d07c9",
   "metadata": {},
   "source": [
    "Let's take some time to think about the Customer Churn data.\n",
    "\n",
    "Question\n",
    "After creating the box plots, provide a brief interpretation of the results. What can you say about the distribution of 'CreditScore' overall and across different geographies?\n",
    "\n",
    "Remember to take note of the median, quartiles, whiskers, and any potential outliers in your data.\n",
    "\n",
    "When you have completed the activity, return to the topic page in Canvas."
   ]
  },
  {
   "cell_type": "markdown",
   "id": "86f310a7",
   "metadata": {},
   "source": []
  }
 ],
 "metadata": {
  "language_info": {
   "name": "python"
  }
 },
 "nbformat": 4,
 "nbformat_minor": 5
}
