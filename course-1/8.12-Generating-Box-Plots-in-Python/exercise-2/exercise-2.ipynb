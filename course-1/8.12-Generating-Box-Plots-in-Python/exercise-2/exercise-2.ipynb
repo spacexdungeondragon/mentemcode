{
 "cells": [
  {
   "cell_type": "markdown",
   "id": "cfa33e54",
   "metadata": {},
   "source": [
    "Exercise 2: Multiple Box Plots\n",
    "Now, let's make use of Seaborn's user-friendly syntax to create multiple box plots side by side. Using the same data frame, create box plots to display credit scores by geography. Use 'Set2' as your colour palette.\n",
    "\n",
    "If you get stuck, refer to \"notebook_solved.ipynb\" to help with coding in \"notebook.ipynb.\"\n",
    "\n",
    "Note: To complete this activity click the Submit/Mark button in the bottom right corner. These activities are for your own practice in a coding environment and are not assessed. If you have any questions about an activity, please ask your facilitator in a live session or on the Discussion board. "
   ]
  },
  {
   "cell_type": "markdown",
   "id": "72b22edc",
   "metadata": {},
   "source": []
  }
 ],
 "metadata": {
  "language_info": {
   "name": "python"
  }
 },
 "nbformat": 4,
 "nbformat_minor": 5
}
