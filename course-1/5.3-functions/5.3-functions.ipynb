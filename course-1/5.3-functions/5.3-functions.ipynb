{
 "cells": [
  {
   "cell_type": "markdown",
   "id": "a5e515bc",
   "metadata": {},
   "source": [
    "Writing your own function\n",
    "To get hands-on experience with Python functions, try writing a function that multiplies two numbers. Here's a hint:\n",
    "\n",
    "    def multiply_numbers(x, y):\n",
    "\n",
    "        \"\"\"This function multiplies two numbers.\"\"\"\n",
    "\n",
    "        # Your code here\n",
    "\n",
    "After you've written your function, test it by calling it with some arguments and print the result. \n",
    "\n",
    "Note: To complete this activity click the Submit/Mark button in the bottom right corner. These activities are for your own practice in a coding environment and are not assessed. If you have any questions about an activity, please ask your facilitator in a live session or on the Discussion board. "
   ]
  },
  {
   "cell_type": "code",
   "execution_count": null,
   "id": "751e7472",
   "metadata": {},
   "outputs": [],
   "source": [
    "def multiply_numbers(x, y):\n",
    "    \"\"\"This function multiplies two numbers.\"\"\"\n",
    "    result = x * y\n",
    "    return result\n",
    "\n",
    "x = 3\n",
    "y = 5\n",
    "x_times_y = multiply_numbers(x, y)\n",
    "\n",
    "print(f\"{x} times {y} is {x_times_y}\")"
   ]
  },
  {
   "cell_type": "markdown",
   "id": "f2743eaa",
   "metadata": {},
   "source": [
    "Exercise: writing a function\n",
    "Task\n",
    "In your \"main.py\" notebook, your task is to create a Python function called multiply_by_two() that takes an integer n as input and multiplies it by 2 repeatedly until the result is greater than 50. Your function should then return the final value. \n",
    "\n",
    "Hints\n",
    "Use a while loop to repeatedly multiply n by 2 as long as it is less than or equal to 50. A while loop looks like this:  while: <condition>\n",
    "\n",
    "You can use the *= assignment operator to update the value of n in each iteration. This assignment operator overwrites the existing value of n with the new value. Therefore, you can write n *= 2 which is the same as n = n * 2. \n",
    "\n",
    "You may need a variable to store the intermediate result (e.g., n2) inside the loop.\n",
    "\n",
    "Once the loop condition is no longer met (i.e., when n exceeds 50), return the final value of n \n",
    "\n",
    "Use a print() statement to print out the final result, for example: print(\"If the input is\", n, \"the final value is\", n2)\n",
    "\n",
    "Test the function by running it with an input value of 10. If your function works correctly, the final input value should be 40 and the final output value should be 80. Your function should work correctly for different initial values of n. Test it with various inputs to ensure it behaves as expected.\n",
    "\n",
    "If you get stuck, refer to \"main_solved.py\" to help with coding in \"main.py.\"\n",
    "\n",
    "Note: To complete this activity click the Submit/Mark button in the bottom right corner. These activities are for your own practice in a coding environment and are not assessed. If you have any questions about an activity, please ask your facilitator in a live session or on the Discussion board. "
   ]
  },
  {
   "cell_type": "code",
   "execution_count": 1,
   "id": "42e5b761",
   "metadata": {},
   "outputs": [
    {
     "name": "stdout",
     "output_type": "stream",
     "text": [
      "If the input is 40 the final value is 80\n"
     ]
    }
   ],
   "source": [
    "# Here's a template to get you started:\n",
    "def multiply_by_two(n):\n",
    "    \"\"\"Multiply n by 2 while it is less than or equal to 50\"\"\"\n",
    "    while n * 2 <= 50:\n",
    "        n *= 2\n",
    "        n2 = n * 2\n",
    "    print(\"If the input is\", n, \"the final value is\", n2)\n",
    "\n",
    "\n",
    "multiply_by_two(10) # Output: If the input is 40 the final value is 80"
   ]
  },
  {
   "cell_type": "code",
   "execution_count": null,
   "id": "d19b6117",
   "metadata": {},
   "outputs": [],
   "source": []
  }
 ],
 "metadata": {
  "kernelspec": {
   "display_name": "mentem",
   "language": "python",
   "name": "python3"
  },
  "language_info": {
   "codemirror_mode": {
    "name": "ipython",
    "version": 3
   },
   "file_extension": ".py",
   "mimetype": "text/x-python",
   "name": "python",
   "nbconvert_exporter": "python",
   "pygments_lexer": "ipython3",
   "version": "3.13.2"
  }
 },
 "nbformat": 4,
 "nbformat_minor": 5
}
