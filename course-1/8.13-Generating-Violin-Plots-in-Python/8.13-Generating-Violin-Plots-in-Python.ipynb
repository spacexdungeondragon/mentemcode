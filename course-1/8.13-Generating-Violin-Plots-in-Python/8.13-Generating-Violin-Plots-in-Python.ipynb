{
 "cells": [
  {
   "cell_type": "markdown",
   "id": "149b2b98",
   "metadata": {},
   "source": [
    "Violin Plots\n",
    "Once you have mastered the syntax pertaining to Matplotlib and Seaborn, generating advanced visualisations becomes a breeze. By now, you will have noticed that you can easily add or customise visualisation elements by adding or changing code parameters.\n",
    "\n",
    "Note: To complete this activity click the Submit/Mark button in the bottom right corner. These activities are for your own practice in a coding environment and are not assessed. If you have any questions about an activity, please ask your facilitator in a live session or on the Discussion board. "
   ]
  },
  {
   "cell_type": "markdown",
   "id": "8660621c",
   "metadata": {},
   "source": []
  }
 ],
 "metadata": {
  "language_info": {
   "name": "python"
  }
 },
 "nbformat": 4,
 "nbformat_minor": 5
}
