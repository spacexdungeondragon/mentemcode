{
 "cells": [
  {
   "cell_type": "markdown",
   "id": "710dded0",
   "metadata": {},
   "source": [
    "Exercise\n",
    "For this exercise, you'll continue to use the Customer-Churn-Records dataset which has been pre-loaded as the data frame df.\n",
    "\n",
    "If you get stuck, refer to \"notebook_solved.ipynb\" to help with coding in \"notebook.ipynb.\"\n",
    "\n",
    "Note: To complete this activity click the Submit/Mark button in the bottom right corner. These activities are for your own practice in a coding environment and are not assessed. If you have any questions about an activity, please ask your facilitator in a live session or on the Discussion board. "
   ]
  },
  {
   "cell_type": "markdown",
   "id": "90c19af9",
   "metadata": {},
   "source": []
  }
 ],
 "metadata": {
  "language_info": {
   "name": "python"
  }
 },
 "nbformat": 4,
 "nbformat_minor": 5
}
