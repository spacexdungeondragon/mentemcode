{
    "cells": [
        {
            "cell_type": "code",
            "execution_count": 1,
            "metadata": {},
            "outputs": [],
            "source": [
                "import pandas as pd\n",
                "import matplotlib.pyplot as plt\n",
                "import numpy as np\n",
                "import seaborn as sns\n",
                "\n",
                "churn = pd.read_excel('Customer-Churn-Records.xlsx')"
            ]
        },
        {
            "attachments": {},
            "cell_type": "markdown",
            "metadata": {},
            "source": [
                "An uncleaned version of the Customer-Churn-Records dataset has also been loaded as the data frame `churn`.\n",
                "\n",
                "Understanding the overall structure of the dataset \n",
                "The `info()` function gives you a concise summary of the data frame, including data types, non-null counts, and memory usage. It's a great way to quickly understand the structure of your dataset, identify data types and detect null values. In this case, you can see that your data frame is `10,000` rows long and contains no `null` values:"
            ]
        },
        {
            "cell_type": "code",
            "execution_count": 2,
            "metadata": {},
            "outputs": [
                {
                    "name": "stdout",
                    "output_type": "stream",
                    "text": [
                        "<class 'pandas.core.frame.DataFrame'>\n",
                        "RangeIndex: 10000 entries, 0 to 9999\n",
                        "Data columns (total 18 columns):\n",
                        " #   Column              Non-Null Count  Dtype  \n",
                        "---  ------              --------------  -----  \n",
                        " 0   RowNumber           10000 non-null  int64  \n",
                        " 1   CustomerId          10000 non-null  int64  \n",
                        " 2   Surname             10000 non-null  object \n",
                        " 3   CreditScore         10000 non-null  int64  \n",
                        " 4   Geography           10000 non-null  object \n",
                        " 5   Gender              10000 non-null  object \n",
                        " 6   Age                 10000 non-null  int64  \n",
                        " 7   Tenure              10000 non-null  int64  \n",
                        " 8   Balance             10000 non-null  float64\n",
                        " 9   NumOfProducts       10000 non-null  int64  \n",
                        " 10  HasCrCard           10000 non-null  int64  \n",
                        " 11  IsActiveMember      10000 non-null  int64  \n",
                        " 12  EstimatedSalary     10000 non-null  float64\n",
                        " 13  Exited              10000 non-null  int64  \n",
                        " 14  Complain            10000 non-null  int64  \n",
                        " 15  Satisfaction Score  10000 non-null  int64  \n",
                        " 16  Card Type           10000 non-null  object \n",
                        " 17  Point Earned        10000 non-null  int64  \n",
                        "dtypes: float64(2), int64(12), object(4)\n",
                        "memory usage: 1.4+ MB\n"
                    ]
                }
            ],
            "source": [
                "churn.info()"
            ]
        },
        {
            "attachments": {},
            "cell_type": "markdown",
            "metadata": {},
            "source": [
                "You can also use the `describe()` function to get some summary statistics on the numeric variables in your dataset, such as count, mean, standard deviation, min, max and percentiles:"
            ]
        },
        {
            "cell_type": "code",
            "execution_count": 3,
            "metadata": {},
            "outputs": [
                {
                    "data": {
                        "application/vnd.microsoft.datawrangler.viewer.v0+json": {
                            "columns": [
                                {
                                    "name": "index",
                                    "rawType": "object",
                                    "type": "string"
                                },
                                {
                                    "name": "RowNumber",
                                    "rawType": "float64",
                                    "type": "float"
                                },
                                {
                                    "name": "CustomerId",
                                    "rawType": "float64",
                                    "type": "float"
                                },
                                {
                                    "name": "CreditScore",
                                    "rawType": "float64",
                                    "type": "float"
                                },
                                {
                                    "name": "Age",
                                    "rawType": "float64",
                                    "type": "float"
                                },
                                {
                                    "name": "Tenure",
                                    "rawType": "float64",
                                    "type": "float"
                                },
                                {
                                    "name": "Balance",
                                    "rawType": "float64",
                                    "type": "float"
                                },
                                {
                                    "name": "NumOfProducts",
                                    "rawType": "float64",
                                    "type": "float"
                                },
                                {
                                    "name": "HasCrCard",
                                    "rawType": "float64",
                                    "type": "float"
                                },
                                {
                                    "name": "IsActiveMember",
                                    "rawType": "float64",
                                    "type": "float"
                                },
                                {
                                    "name": "EstimatedSalary",
                                    "rawType": "float64",
                                    "type": "float"
                                },
                                {
                                    "name": "Exited",
                                    "rawType": "float64",
                                    "type": "float"
                                },
                                {
                                    "name": "Complain",
                                    "rawType": "float64",
                                    "type": "float"
                                },
                                {
                                    "name": "Satisfaction Score",
                                    "rawType": "float64",
                                    "type": "float"
                                },
                                {
                                    "name": "Point Earned",
                                    "rawType": "float64",
                                    "type": "float"
                                }
                            ],
                            "ref": "e870b9e7-e37b-4126-90f2-62e1e86d4b44",
                            "rows": [
                                [
                                    "count",
                                    "10000.0",
                                    "10000.0",
                                    "10000.0",
                                    "10000.0",
                                    "10000.0",
                                    "10000.0",
                                    "10000.0",
                                    "10000.0",
                                    "10000.0",
                                    "10000.0",
                                    "10000.0",
                                    "10000.0",
                                    "10000.0",
                                    "10000.0"
                                ],
                                [
                                    "mean",
                                    "5000.5",
                                    "15690940.5694",
                                    "650.5288",
                                    "38.9218",
                                    "5.0128",
                                    "76485.889288",
                                    "1.5302",
                                    "0.7055",
                                    "0.5151",
                                    "100090.239881",
                                    "0.2038",
                                    "0.2044",
                                    "3.0138",
                                    "606.5151"
                                ],
                                [
                                    "std",
                                    "2886.8956799071675",
                                    "71936.18612274883",
                                    "96.65329873613061",
                                    "10.487806451704591",
                                    "2.892174377049708",
                                    "62397.40520238623",
                                    "0.5816543579989936",
                                    "0.45584046447514237",
                                    "0.4997969284589202",
                                    "57510.49281769822",
                                    "0.40284213803776586",
                                    "0.4032826597937928",
                                    "1.4059186394390772",
                                    "225.92483921713338"
                                ],
                                [
                                    "min",
                                    "1.0",
                                    "15565701.0",
                                    "350.0",
                                    "18.0",
                                    "0.0",
                                    "0.0",
                                    "1.0",
                                    "0.0",
                                    "0.0",
                                    "11.58",
                                    "0.0",
                                    "0.0",
                                    "1.0",
                                    "119.0"
                                ],
                                [
                                    "25%",
                                    "2500.75",
                                    "15628528.25",
                                    "584.0",
                                    "32.0",
                                    "3.0",
                                    "0.0",
                                    "1.0",
                                    "0.0",
                                    "0.0",
                                    "51002.11",
                                    "0.0",
                                    "0.0",
                                    "2.0",
                                    "410.0"
                                ],
                                [
                                    "50%",
                                    "5000.5",
                                    "15690738.0",
                                    "652.0",
                                    "37.0",
                                    "5.0",
                                    "97198.54000000001",
                                    "1.0",
                                    "1.0",
                                    "1.0",
                                    "100193.915",
                                    "0.0",
                                    "0.0",
                                    "3.0",
                                    "605.0"
                                ],
                                [
                                    "75%",
                                    "7500.25",
                                    "15753233.75",
                                    "718.0",
                                    "44.0",
                                    "7.0",
                                    "127644.24",
                                    "2.0",
                                    "1.0",
                                    "1.0",
                                    "149388.2475",
                                    "0.0",
                                    "0.0",
                                    "4.0",
                                    "801.0"
                                ],
                                [
                                    "max",
                                    "10000.0",
                                    "15815690.0",
                                    "850.0",
                                    "92.0",
                                    "10.0",
                                    "250898.09",
                                    "4.0",
                                    "1.0",
                                    "1.0",
                                    "199992.48",
                                    "1.0",
                                    "1.0",
                                    "5.0",
                                    "1000.0"
                                ]
                            ],
                            "shape": {
                                "columns": 14,
                                "rows": 8
                            }
                        },
                        "text/html": [
                            "<div>\n",
                            "<style scoped>\n",
                            "    .dataframe tbody tr th:only-of-type {\n",
                            "        vertical-align: middle;\n",
                            "    }\n",
                            "\n",
                            "    .dataframe tbody tr th {\n",
                            "        vertical-align: top;\n",
                            "    }\n",
                            "\n",
                            "    .dataframe thead th {\n",
                            "        text-align: right;\n",
                            "    }\n",
                            "</style>\n",
                            "<table border=\"1\" class=\"dataframe\">\n",
                            "  <thead>\n",
                            "    <tr style=\"text-align: right;\">\n",
                            "      <th></th>\n",
                            "      <th>RowNumber</th>\n",
                            "      <th>CustomerId</th>\n",
                            "      <th>CreditScore</th>\n",
                            "      <th>Age</th>\n",
                            "      <th>Tenure</th>\n",
                            "      <th>Balance</th>\n",
                            "      <th>NumOfProducts</th>\n",
                            "      <th>HasCrCard</th>\n",
                            "      <th>IsActiveMember</th>\n",
                            "      <th>EstimatedSalary</th>\n",
                            "      <th>Exited</th>\n",
                            "      <th>Complain</th>\n",
                            "      <th>Satisfaction Score</th>\n",
                            "      <th>Point Earned</th>\n",
                            "    </tr>\n",
                            "  </thead>\n",
                            "  <tbody>\n",
                            "    <tr>\n",
                            "      <th>count</th>\n",
                            "      <td>10000.00000</td>\n",
                            "      <td>1.000000e+04</td>\n",
                            "      <td>10000.000000</td>\n",
                            "      <td>10000.000000</td>\n",
                            "      <td>10000.000000</td>\n",
                            "      <td>10000.000000</td>\n",
                            "      <td>10000.000000</td>\n",
                            "      <td>10000.00000</td>\n",
                            "      <td>10000.000000</td>\n",
                            "      <td>10000.000000</td>\n",
                            "      <td>10000.000000</td>\n",
                            "      <td>10000.000000</td>\n",
                            "      <td>10000.000000</td>\n",
                            "      <td>10000.000000</td>\n",
                            "    </tr>\n",
                            "    <tr>\n",
                            "      <th>mean</th>\n",
                            "      <td>5000.50000</td>\n",
                            "      <td>1.569094e+07</td>\n",
                            "      <td>650.528800</td>\n",
                            "      <td>38.921800</td>\n",
                            "      <td>5.012800</td>\n",
                            "      <td>76485.889288</td>\n",
                            "      <td>1.530200</td>\n",
                            "      <td>0.70550</td>\n",
                            "      <td>0.515100</td>\n",
                            "      <td>100090.239881</td>\n",
                            "      <td>0.203800</td>\n",
                            "      <td>0.204400</td>\n",
                            "      <td>3.013800</td>\n",
                            "      <td>606.515100</td>\n",
                            "    </tr>\n",
                            "    <tr>\n",
                            "      <th>std</th>\n",
                            "      <td>2886.89568</td>\n",
                            "      <td>7.193619e+04</td>\n",
                            "      <td>96.653299</td>\n",
                            "      <td>10.487806</td>\n",
                            "      <td>2.892174</td>\n",
                            "      <td>62397.405202</td>\n",
                            "      <td>0.581654</td>\n",
                            "      <td>0.45584</td>\n",
                            "      <td>0.499797</td>\n",
                            "      <td>57510.492818</td>\n",
                            "      <td>0.402842</td>\n",
                            "      <td>0.403283</td>\n",
                            "      <td>1.405919</td>\n",
                            "      <td>225.924839</td>\n",
                            "    </tr>\n",
                            "    <tr>\n",
                            "      <th>min</th>\n",
                            "      <td>1.00000</td>\n",
                            "      <td>1.556570e+07</td>\n",
                            "      <td>350.000000</td>\n",
                            "      <td>18.000000</td>\n",
                            "      <td>0.000000</td>\n",
                            "      <td>0.000000</td>\n",
                            "      <td>1.000000</td>\n",
                            "      <td>0.00000</td>\n",
                            "      <td>0.000000</td>\n",
                            "      <td>11.580000</td>\n",
                            "      <td>0.000000</td>\n",
                            "      <td>0.000000</td>\n",
                            "      <td>1.000000</td>\n",
                            "      <td>119.000000</td>\n",
                            "    </tr>\n",
                            "    <tr>\n",
                            "      <th>25%</th>\n",
                            "      <td>2500.75000</td>\n",
                            "      <td>1.562853e+07</td>\n",
                            "      <td>584.000000</td>\n",
                            "      <td>32.000000</td>\n",
                            "      <td>3.000000</td>\n",
                            "      <td>0.000000</td>\n",
                            "      <td>1.000000</td>\n",
                            "      <td>0.00000</td>\n",
                            "      <td>0.000000</td>\n",
                            "      <td>51002.110000</td>\n",
                            "      <td>0.000000</td>\n",
                            "      <td>0.000000</td>\n",
                            "      <td>2.000000</td>\n",
                            "      <td>410.000000</td>\n",
                            "    </tr>\n",
                            "    <tr>\n",
                            "      <th>50%</th>\n",
                            "      <td>5000.50000</td>\n",
                            "      <td>1.569074e+07</td>\n",
                            "      <td>652.000000</td>\n",
                            "      <td>37.000000</td>\n",
                            "      <td>5.000000</td>\n",
                            "      <td>97198.540000</td>\n",
                            "      <td>1.000000</td>\n",
                            "      <td>1.00000</td>\n",
                            "      <td>1.000000</td>\n",
                            "      <td>100193.915000</td>\n",
                            "      <td>0.000000</td>\n",
                            "      <td>0.000000</td>\n",
                            "      <td>3.000000</td>\n",
                            "      <td>605.000000</td>\n",
                            "    </tr>\n",
                            "    <tr>\n",
                            "      <th>75%</th>\n",
                            "      <td>7500.25000</td>\n",
                            "      <td>1.575323e+07</td>\n",
                            "      <td>718.000000</td>\n",
                            "      <td>44.000000</td>\n",
                            "      <td>7.000000</td>\n",
                            "      <td>127644.240000</td>\n",
                            "      <td>2.000000</td>\n",
                            "      <td>1.00000</td>\n",
                            "      <td>1.000000</td>\n",
                            "      <td>149388.247500</td>\n",
                            "      <td>0.000000</td>\n",
                            "      <td>0.000000</td>\n",
                            "      <td>4.000000</td>\n",
                            "      <td>801.000000</td>\n",
                            "    </tr>\n",
                            "    <tr>\n",
                            "      <th>max</th>\n",
                            "      <td>10000.00000</td>\n",
                            "      <td>1.581569e+07</td>\n",
                            "      <td>850.000000</td>\n",
                            "      <td>92.000000</td>\n",
                            "      <td>10.000000</td>\n",
                            "      <td>250898.090000</td>\n",
                            "      <td>4.000000</td>\n",
                            "      <td>1.00000</td>\n",
                            "      <td>1.000000</td>\n",
                            "      <td>199992.480000</td>\n",
                            "      <td>1.000000</td>\n",
                            "      <td>1.000000</td>\n",
                            "      <td>5.000000</td>\n",
                            "      <td>1000.000000</td>\n",
                            "    </tr>\n",
                            "  </tbody>\n",
                            "</table>\n",
                            "</div>"
                        ],
                        "text/plain": [
                            "         RowNumber    CustomerId   CreditScore           Age        Tenure  \\\n",
                            "count  10000.00000  1.000000e+04  10000.000000  10000.000000  10000.000000   \n",
                            "mean    5000.50000  1.569094e+07    650.528800     38.921800      5.012800   \n",
                            "std     2886.89568  7.193619e+04     96.653299     10.487806      2.892174   \n",
                            "min        1.00000  1.556570e+07    350.000000     18.000000      0.000000   \n",
                            "25%     2500.75000  1.562853e+07    584.000000     32.000000      3.000000   \n",
                            "50%     5000.50000  1.569074e+07    652.000000     37.000000      5.000000   \n",
                            "75%     7500.25000  1.575323e+07    718.000000     44.000000      7.000000   \n",
                            "max    10000.00000  1.581569e+07    850.000000     92.000000     10.000000   \n",
                            "\n",
                            "             Balance  NumOfProducts    HasCrCard  IsActiveMember  \\\n",
                            "count   10000.000000   10000.000000  10000.00000    10000.000000   \n",
                            "mean    76485.889288       1.530200      0.70550        0.515100   \n",
                            "std     62397.405202       0.581654      0.45584        0.499797   \n",
                            "min         0.000000       1.000000      0.00000        0.000000   \n",
                            "25%         0.000000       1.000000      0.00000        0.000000   \n",
                            "50%     97198.540000       1.000000      1.00000        1.000000   \n",
                            "75%    127644.240000       2.000000      1.00000        1.000000   \n",
                            "max    250898.090000       4.000000      1.00000        1.000000   \n",
                            "\n",
                            "       EstimatedSalary        Exited      Complain  Satisfaction Score  \\\n",
                            "count     10000.000000  10000.000000  10000.000000        10000.000000   \n",
                            "mean     100090.239881      0.203800      0.204400            3.013800   \n",
                            "std       57510.492818      0.402842      0.403283            1.405919   \n",
                            "min          11.580000      0.000000      0.000000            1.000000   \n",
                            "25%       51002.110000      0.000000      0.000000            2.000000   \n",
                            "50%      100193.915000      0.000000      0.000000            3.000000   \n",
                            "75%      149388.247500      0.000000      0.000000            4.000000   \n",
                            "max      199992.480000      1.000000      1.000000            5.000000   \n",
                            "\n",
                            "       Point Earned  \n",
                            "count  10000.000000  \n",
                            "mean     606.515100  \n",
                            "std      225.924839  \n",
                            "min      119.000000  \n",
                            "25%      410.000000  \n",
                            "50%      605.000000  \n",
                            "75%      801.000000  \n",
                            "max     1000.000000  "
                        ]
                    },
                    "execution_count": 3,
                    "metadata": {},
                    "output_type": "execute_result"
                }
            ],
            "source": [
                "churn.describe()"
            ]
        },
        {
            "attachments": {},
            "cell_type": "markdown",
            "metadata": {},
            "source": [
                "The `value_counts()` function can be applied to a variable and returns a list of unique values with the counts of each. It's handy for exploring the distribution of values in a column. \n",
                " \n",
                "Let’s apply it to the `'Geography'` column in the `'churn'` data frame. Here you will discover your first data quality issue!"
            ]
        },
        {
            "cell_type": "code",
            "execution_count": 4,
            "metadata": {},
            "outputs": [
                {
                    "data": {
                        "application/vnd.microsoft.datawrangler.viewer.v0+json": {
                            "columns": [
                                {
                                    "name": "Geography",
                                    "rawType": "object",
                                    "type": "string"
                                },
                                {
                                    "name": "count",
                                    "rawType": "int64",
                                    "type": "integer"
                                }
                            ],
                            "ref": "d51bb3e6-bf86-4c6d-8e4c-81fe725cd683",
                            "rows": [
                                [
                                    "NSW",
                                    "5014"
                                ],
                                [
                                    "VIC",
                                    "2509"
                                ],
                                [
                                    "QLD",
                                    "2477"
                                ]
                            ],
                            "shape": {
                                "columns": 1,
                                "rows": 3
                            }
                        },
                        "text/plain": [
                            "Geography\n",
                            "NSW    5014\n",
                            "VIC    2509\n",
                            "QLD    2477\n",
                            "Name: count, dtype: int64"
                        ]
                    },
                    "execution_count": 4,
                    "metadata": {},
                    "output_type": "execute_result"
                }
            ],
            "source": [
                "churn['Geography'].value_counts()"
            ]
        },
        {
            "attachments": {},
            "cell_type": "markdown",
            "metadata": {},
            "source": [
                "##  Identifying duplicates, null and missing values\n",
                "\n",
                "One way to identify duplicates is via the `duplicated()` function. Let’s apply it to a full row using the `columns` parameter, and to the unique identifier `CustomerId`. This will give us comfort that each customer is only presented once in the dataset. The print function returns the column headings with no rows below them, because there are no duplicates to display."
            ]
        },
        {
            "cell_type": "code",
            "execution_count": 5,
            "metadata": {},
            "outputs": [
                {
                    "name": "stdout",
                    "output_type": "stream",
                    "text": [
                        "Empty DataFrame\n",
                        "Columns: [RowNumber, CustomerId, Surname, CreditScore, Geography, Gender, Age, Tenure, Balance, NumOfProducts, HasCrCard, IsActiveMember, EstimatedSalary, Exited, Complain, Satisfaction Score, Card Type, Point Earned]\n",
                        "Index: []\n",
                        "Empty DataFrame\n",
                        "Columns: [RowNumber, CustomerId, Surname, CreditScore, Geography, Gender, Age, Tenure, Balance, NumOfProducts, HasCrCard, IsActiveMember, EstimatedSalary, Exited, Complain, Satisfaction Score, Card Type, Point Earned]\n",
                        "Index: []\n"
                    ]
                }
            ],
            "source": [
                "# Check for duplicate rows\n",
                "print(churn[churn.duplicated(subset=churn.columns)])\n",
                " \n",
                "# Check for duplicate primary keys\n",
                "print(churn[churn.duplicated(subset='CustomerId')])"
            ]
        },
        {
            "attachments": {},
            "cell_type": "markdown",
            "metadata": {},
            "source": [
                "## Checking whether values are within range\n",
                "\n",
                "There are several ways to check whether values within a column are within their expected range. In this example, you will use a `Boolean series` to count the number of observations in the `CreditScore` column that fall outside the expected range of `350` to `850`.\n",
                " \n",
                "Here's a breakdown of what each line does:\n",
                " \n",
                "1. `min_credit, max_credit = 350, 850`: This line defines the minimum and maximum acceptable values for the credit score, which are `350` and `850` respectively.\n",
                " \n",
                "2. `condition = (churn['CreditScore'] >= min_credit) & (churn['CreditScore'] <= max_credit)`: This line creates a new series where each element is either `True` or `False`. It checks each value in the `'CreditScore'` column to see if it lies within the specified range. If a value is within the range, the corresponding value in the `'condition'` series will be `True`; otherwise, it will be `False`.\n",
                " \n",
                "3. `value_counts = condition.value_counts()`: This line counts the number of True and False values in the 'condition' series. The result is a series where the index is `[True, False]` and the values are the counts of how many times each appears in the `'condition'` series.\n",
                " \n",
                "4. `print(value_counts)`: This line prints the counts of `True` and `False` values. The count of `True` values represents the number of records in the `'CreditScore'` column that are within the specified range, while the count of `False` values represents the number of records that are outside this range."
            ]
        },
        {
            "cell_type": "code",
            "execution_count": 6,
            "metadata": {},
            "outputs": [
                {
                    "name": "stdout",
                    "output_type": "stream",
                    "text": [
                        "CreditScore\n",
                        "True    10000\n",
                        "Name: count, dtype: int64\n"
                    ]
                }
            ],
            "source": [
                "# Define acceptable range\n",
                "min_credit, max_credit = 350, 850\n",
                " \n",
                "# Check if all CreditScores are within range\n",
                "condition = (churn['CreditScore'] >= min_credit) & (churn['CreditScore'] <= max_credit)\n",
                "value_counts = condition.value_counts()\n",
                " \n",
                "print(value_counts)"
            ]
        },
        {
            "attachments": {},
            "cell_type": "markdown",
            "metadata": {},
            "source": [
                "## Identifying special characters with the ReGex module\n",
                "\n",
                "The Python `re` module is used for working with Regular Expressions (RegEx). RegEx is a sequence of characters that forms a search pattern. This pattern can be used to search, replace or split text in strings.\n",
                " \n",
                "The `re` module offers several functions to work with RegEx:\n",
                " \n",
                "- `re.match()`: This function checks if the RegEx pattern matches at the beginning of a string.\n",
                "- `re.search()`: This function searches the string for a match to the RegEx pattern and returns a match object if found. Unlike `re.match()`, it doesn't require the pattern to be at the beginning of the string.\n",
                "- `re.findall()`: This function returns all non-overlapping matches of the RegEx pattern as a list of strings.\n",
                "- `re.split()`: This function splits the string by the occurrences of the RegEx pattern.\n",
                "- `re.sub()`: This function replaces occurrences of the RegEx pattern in the string with a specified replacement string.\n",
                "- `re.compile()`: This function compiles a RegEx pattern into a regular expression object, which can be used for matching using its `match()` and `search()` methods, among others.\n",
                "\n",
                "\n",
                "Let's use the `re.findall()` function to test whether there are any random special characters in the  `Surname` column in the `churn` data frame:\n"
            ]
        },
        {
            "cell_type": "code",
            "execution_count": 7,
            "metadata": {},
            "outputs": [
                {
                    "ename": "NameError",
                    "evalue": "name 're' is not defined",
                    "output_type": "error",
                    "traceback": [
                        "\u001b[31m---------------------------------------------------------------------------\u001b[39m",
                        "\u001b[31mNameError\u001b[39m                                 Traceback (most recent call last)",
                        "\u001b[36mCell\u001b[39m\u001b[36m \u001b[39m\u001b[32mIn[7]\u001b[39m\u001b[32m, line 6\u001b[39m\n\u001b[32m      4\u001b[39m \u001b[38;5;66;03m# Scan the 'Surname' column for special characters\u001b[39;00m\n\u001b[32m      5\u001b[39m \u001b[38;5;28;01mfor\u001b[39;00m x \u001b[38;5;129;01min\u001b[39;00m churn[\u001b[33m'\u001b[39m\u001b[33mSurname\u001b[39m\u001b[33m'\u001b[39m]:\n\u001b[32m----> \u001b[39m\u001b[32m6\u001b[39m     special_characters = \u001b[43mre\u001b[49m.findall(pattern, x)\n\u001b[32m      7\u001b[39m     \u001b[38;5;28;01mif\u001b[39;00m special_characters:\n\u001b[32m      8\u001b[39m         \u001b[38;5;28mprint\u001b[39m(\u001b[33mf\u001b[39m\u001b[33m\"\u001b[39m\u001b[33mSpecial characters found in\u001b[39m\u001b[33m\"\u001b[39m, x)\n",
                        "\u001b[31mNameError\u001b[39m: name 're' is not defined"
                    ]
                }
            ],
            "source": [
                "# Define regular special characters\n",
                "pattern = r'[!@#$%^&*()_+]'\n",
                " \n",
                "# Scan the 'Surname' column for special characters\n",
                "for x in churn['Surname']:\n",
                "    special_characters = re.findall(pattern, x)\n",
                "    if special_characters:\n",
                "        print(f\"Special characters found in\", x)"
            ]
        },
        {
            "attachments": {},
            "cell_type": "markdown",
            "metadata": {},
            "source": [
                "Here's what's going on in the script:\n",
                " \n",
                "1. `pattern = r'[!@#$%^&*()_+]`: This line defines a RegEx pattern that matches any of the special characters inside the square brackets. The r before the string indicates that this is a raw string, which treats backslashes as literal characters.\n",
                "2. The for loop `for x in churn['Surname']`: iterates over each value in the 'Surname' column of the `'churn'` data frame.\n",
                "3. `special_characters = re.findall(pattern, x)`: For each surname, the `re.findall()` function is used to find all occurrences of the defined pattern. The result is a list of all special characters found in the surname.\n",
                " \n",
                "So, in essence, this code is scanning each surname in the `'Surname'` column of the `'churn'` data frame for any of the specified special characters. If a surname contains any of these special characters, it prints that surname.\n",
                " \n",
                "As a result, you found one email address that had been erroneously entered into the `'Surname'` column."
            ]
        }
    ],
    "metadata": {
        "kernelspec": {
            "display_name": "mentem",
            "language": "python",
            "name": "python3"
        },
        "language_info": {
            "codemirror_mode": {
                "name": "ipython",
                "version": 3
            },
            "file_extension": ".py",
            "mimetype": "text/x-python",
            "name": "python",
            "nbconvert_exporter": "python",
            "pygments_lexer": "ipython3",
            "version": "3.13.2"
        }
    },
    "nbformat": 4,
    "nbformat_minor": 2
}
