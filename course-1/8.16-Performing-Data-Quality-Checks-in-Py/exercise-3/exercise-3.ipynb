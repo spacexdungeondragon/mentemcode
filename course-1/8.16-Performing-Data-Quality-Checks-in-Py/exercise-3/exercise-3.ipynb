{
 "cells": [
  {
   "cell_type": "markdown",
   "id": "9e37b204",
   "metadata": {},
   "source": [
    "Exercise 3: Data Quality Checks\n",
    "Fill in the blanks in the following code to check that the 'Satisfaction Score' column contains whole numbers (integers) between 1 and 5 only. Do all observations contain accepted values?\n",
    "\n",
    "If you get stuck, refer to \"main_solved.py\" to help with coding in \"main.py\" notebook. "
   ]
  },
  {
   "cell_type": "markdown",
   "id": "220e7a52",
   "metadata": {},
   "source": []
  }
 ],
 "metadata": {
  "language_info": {
   "name": "python"
  }
 },
 "nbformat": 4,
 "nbformat_minor": 5
}
