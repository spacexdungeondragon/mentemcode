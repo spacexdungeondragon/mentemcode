{
 "cells": [
  {
   "cell_type": "markdown",
   "id": "53c27c0f",
   "metadata": {},
   "source": [
    "Exercise 2: Data Quality Checks\n",
    "Check the 'EstimatedSalary' column for non-numeric characters by filling in the following code. Do you see any issues in the output?\n",
    "\n",
    "If you get stuck, refer to \"main_solved.py\" to help with coding in \"main.py\" notebook."
   ]
  },
  {
   "cell_type": "markdown",
   "id": "b7fdc52d",
   "metadata": {},
   "source": []
  }
 ],
 "metadata": {
  "language_info": {
   "name": "python"
  }
 },
 "nbformat": 4,
 "nbformat_minor": 5
}
