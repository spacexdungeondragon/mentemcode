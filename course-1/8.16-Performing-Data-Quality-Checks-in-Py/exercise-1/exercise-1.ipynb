{
 "cells": [
  {
   "cell_type": "markdown",
   "id": "f1d7caf8",
   "metadata": {},
   "source": [
    "Exercise 1: Data Quality Checks\n",
    "Now that you’ve learned some handy Python techniques for checking the quality of your data, it’s time to put it into practice. Complete the following tasks on the churn data frame: \n",
    "\n",
    "Count the number of unique values in the 'IsActiveMember' column. Do you see any data quality issues?\n",
    "\n",
    "If you get stuck, refer to \"main_solved.py\" to help with coding in \"main.py\""
   ]
  },
  {
   "cell_type": "markdown",
   "id": "3ab02332",
   "metadata": {},
   "source": []
  }
 ],
 "metadata": {
  "language_info": {
   "name": "python"
  }
 },
 "nbformat": 4,
 "nbformat_minor": 5
}
