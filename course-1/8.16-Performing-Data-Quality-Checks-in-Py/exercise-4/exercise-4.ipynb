{
 "cells": [
  {
   "cell_type": "markdown",
   "id": "89c3dd0b",
   "metadata": {},
   "source": [
    "Exercise 4 : Data Quality Checks\n",
    "Check that the 'Geography' column contains only capitalised characters, using the unique() function. Do you see any issues that might cause problems down the track?\n",
    "\n",
    "When you have completed the activity, return to the topic page in Canvas.\n",
    "\n",
    "If you get stuck, refer to \"main_solved.py\" to help with coding in \"main.py\" notebook. "
   ]
  },
  {
   "cell_type": "markdown",
   "id": "2b686043",
   "metadata": {},
   "source": []
  }
 ],
 "metadata": {
  "language_info": {
   "name": "python"
  }
 },
 "nbformat": 4,
 "nbformat_minor": 5
}
