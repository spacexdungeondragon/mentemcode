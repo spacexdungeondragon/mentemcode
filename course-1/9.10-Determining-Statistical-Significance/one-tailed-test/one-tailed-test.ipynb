{
 "cells": [
  {
   "cell_type": "markdown",
   "id": "2f3eba21",
   "metadata": {},
   "source": [
    "Conducting a one-tailed t-test in Python\n",
    "The p-value is 2.337, which is higher than any typical level of significance, including the level of significance that you have been asked to use (0.05). You therefore fail to reject the null hypothesis – there is insufficient evidence to conclude that the average bank balance of customers with positive bank balances and less than $5,000 in their account is greater than $1,000.\n",
    "\n",
    "Note: that if you had been provided the data, rather than the summary statistics, you could have also used this approach for the two-tailed test in the earlier exercise.\n",
    "\n",
    "When you have completed all the activities, return to the topic page in Canvas.\n",
    "\n",
    "If you get stuck, refer to \"main_solved.py\" to help with coding in \"main.py\"."
   ]
  },
  {
   "cell_type": "markdown",
   "id": "8af18484",
   "metadata": {},
   "source": []
  },
  {
   "cell_type": "code",
   "execution_count": 1,
   "id": "d72fe6ea",
   "metadata": {},
   "outputs": [
    {
     "name": "stdout",
     "output_type": "stream",
     "text": [
      "p-value:  0.9455806343914672\n"
     ]
    }
   ],
   "source": [
    "import pandas as pd\n",
    "import numpy as np\n",
    "import scipy.stats as stats\n",
    " \n",
    "bank = pd.read_csv(\"bank.csv\")\n",
    " \n",
    "# Filter the DataFrame \n",
    "filtered_bank = bank[(bank['balance'] > 0) & (bank['balance'] < 5000)] \n",
    " \n",
    "# Setting a random seed and perform random sampling\n",
    "np.random.seed(54321)\n",
    "sample = filtered_bank.sample(n=500, replace=False)['balance'] \n",
    " \n",
    "# Perform the T-Test\n",
    "test_p_value = stats.ttest_1samp(sample, popmean=1000, alternative='greater').pvalue\n",
    "print(\"p-value: \", test_p_value)\n"
   ]
  }
 ],
 "metadata": {
  "kernelspec": {
   "display_name": "mentem",
   "language": "python",
   "name": "python3"
  },
  "language_info": {
   "codemirror_mode": {
    "name": "ipython",
    "version": 3
   },
   "file_extension": ".py",
   "mimetype": "text/x-python",
   "name": "python",
   "nbconvert_exporter": "python",
   "pygments_lexer": "ipython3",
   "version": "3.13.2"
  }
 },
 "nbformat": 4,
 "nbformat_minor": 5
}
