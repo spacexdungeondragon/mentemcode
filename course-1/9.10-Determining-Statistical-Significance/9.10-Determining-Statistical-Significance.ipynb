{
 "cells": [
  {
   "cell_type": "markdown",
   "id": "c4cfc8df",
   "metadata": {},
   "source": [
    "Conducting a z-test in Python\n",
    "The p-value is 0.157, which is more than the level of significance, α, of 0.05. You therefore do not reject the null hypothesis. The sample indicates that there is no evidence to suggest the personal incomes of loan applicants is not equal to $65,000.\n",
    "\n",
    "Approach two: The confidence interval ranges from $63,668.44 to $65,331.55. \n",
    "The sample mean falls within this interval, therefore you do not reject the null hypothesis. The sample indicates that there is no evidence to suggest the personal incomes of loan applicants is not equal to $65,000.\n",
    "\n",
    "Note that the 1.96 specified in the confidence interval calculation is a constant for a two-tailed z-test at a 5% level of significance. For a 10% level of significance, the corresponding value is 1.64.\n",
    "\n",
    "If you get stuck, refer to \"main_solved.py\" to help with coding in \"main.py\"."
   ]
  },
  {
   "cell_type": "code",
   "execution_count": 1,
   "id": "f841fc9a",
   "metadata": {},
   "outputs": [
    {
     "name": "stdout",
     "output_type": "stream",
     "text": [
      "Z-Score : -1.414213562373095\n",
      "p-value : 0.15729920705028522\n",
      "63668.44242532462 65331.55757467538\n"
     ]
    }
   ],
   "source": [
    "import numpy as np \n",
    "import scipy.stats as stats \n",
    "\n",
    "# Scenario Information \n",
    "sample_mean = 64500 \n",
    "hypothesised_pop_mean = 65000 \n",
    "population_std = 2500  \n",
    "sample_size = 50 \n",
    "alpha = 0.05 \n",
    "\n",
    "# Calculate the Z-score \n",
    "z_score = (sample_mean-hypothesised_pop_mean)/(population_std/np.sqrt(50)) \n",
    "print('Z-Score :', z_score) \n",
    "\n",
    "# Calculate P-Value  \n",
    "p_value = 2 * (1 - stats.norm.cdf(abs(z_score))) \n",
    "print('p-value :', p_value) \n",
    "\n",
    "# Calculate the Confidence Interval  \n",
    "#Below, it's assumed that the *sample* std. dev. is 3000\n",
    "lb = sample_mean - 1.96 * (3000 / np.sqrt(sample_size)) # Lower Boundary \n",
    "ub = sample_mean + 1.96 * (3000 / np.sqrt(sample_size)) # Upper Boundary \n",
    "print(lb, ub) "
   ]
  },
  {
   "cell_type": "markdown",
   "id": "93040a5a",
   "metadata": {},
   "source": [
    "Conducting a t-test in Python\n",
    "The p-value is 0.465, which is greater than the level of significance, α, of 0.05. You therefore fail to reject the null hypothesis. There is insufficient evidence that the personal incomes of loan applicants are not equal to $65,000. \n",
    "\n",
    "Approach two: The confidence interval ranges from $63095.97 to $65904.03. The population mean falls within this interval, therefore you fail to reject the null hypothesis. There is insufficient evidence that the personal incomes of loan applicants are not equal to $65,000.\n",
    "\n",
    "If you get stuck, refer to \"main_solved.py\" to help with coding in \"main.py\"."
   ]
  },
  {
   "cell_type": "code",
   "execution_count": 2,
   "id": "84371fd5",
   "metadata": {},
   "outputs": [
    {
     "name": "stdout",
     "output_type": "stream",
     "text": [
      "T-Score : -0.74535599249993\n",
      "p-value : 0.46517796008604195\n",
      "63095.97291692788 65904.02708307211\n"
     ]
    }
   ],
   "source": [
    "import numpy as np\n",
    "import scipy.stats as stats\n",
    " \n",
    "# Scenario Information\n",
    "sample_mean = 64500\n",
    "hypothesised_pop_mean = 65000\n",
    "sample_std = 3000 # estimated from sample standard deviation\n",
    "sample_size = 20\n",
    "alpha = 0.05\n",
    " \n",
    "# Calculate the t-score\n",
    "t_score = (sample_mean-hypothesised_pop_mean)/(sample_std/np.sqrt(20))\n",
    "print('T-Score :', t_score)\n",
    " \n",
    "# Calculate P-Value \n",
    "p_value = 2 * (1 - stats.t.cdf(abs(t_score), df=sample_size-1))\n",
    "print('p-value :', p_value)\n",
    " \n",
    "# Calculate the Confidence Interval \n",
    "#Below, it's assumed that the *sample* std. dev. is 3000\n",
    "lb = sample_mean - 2.093 * (3000 / np.sqrt(sample_size)) # Lower Boundary \n",
    "ub = sample_mean + 2.093 * (3000 / np.sqrt(sample_size)) # Upper Boundary \n",
    "print(lb, ub)"
   ]
  },
  {
   "cell_type": "markdown",
   "id": "d11d48bd",
   "metadata": {},
   "source": [
    "Conducting a one-tailed t-test in Python\n",
    "The p-value is 2.337, which is higher than any typical level of significance, including the level of significance that you have been asked to use (0.05). You therefore fail to reject the null hypothesis – there is insufficient evidence to conclude that the average bank balance of customers with positive bank balances and less than $5,000 in their account is greater than $1,000.\n",
    "\n",
    "Note: that if you had been provided the data, rather than the summary statistics, you could have also used this approach for the two-tailed test in the earlier exercise.\n",
    "\n",
    "When you have completed all the activities, return to the topic page in Canvas.\n",
    "\n",
    "If you get stuck, refer to \"main_solved.py\" to help with coding in \"main.py\".\n",
    "\n",
    "Use left and right arrow keys to adjust the split region size"
   ]
  },
  {
   "cell_type": "code",
   "execution_count": 3,
   "id": "2833a9a7",
   "metadata": {},
   "outputs": [
    {
     "name": "stdout",
     "output_type": "stream",
     "text": [
      "p-value:  0.9455806343914672\n"
     ]
    }
   ],
   "source": [
    "import pandas as pd\n",
    "import numpy as np\n",
    "import scipy.stats as stats\n",
    " \n",
    "bank = pd.read_csv(\"bank.csv\")\n",
    " \n",
    "# Filter the DataFrame \n",
    "filtered_bank = bank[(bank['balance'] > 0) & (bank['balance'] < 5000)] \n",
    " \n",
    "# Setting a random seed and perform random sampling\n",
    "np.random.seed(54321)\n",
    "sample = filtered_bank.sample(n=500, replace=False)['balance'] \n",
    " \n",
    "# Perform the T-Test\n",
    "test_p_value = stats.ttest_1samp(sample, popmean=1000, alternative='greater').pvalue\n",
    "print(\"p-value: \", test_p_value)\n"
   ]
  },
  {
   "cell_type": "code",
   "execution_count": null,
   "id": "43a15b93",
   "metadata": {},
   "outputs": [],
   "source": []
  }
 ],
 "metadata": {
  "kernelspec": {
   "display_name": "mentem",
   "language": "python",
   "name": "python3"
  },
  "language_info": {
   "codemirror_mode": {
    "name": "ipython",
    "version": 3
   },
   "file_extension": ".py",
   "mimetype": "text/x-python",
   "name": "python",
   "nbconvert_exporter": "python",
   "pygments_lexer": "ipython3",
   "version": "3.13.2"
  }
 },
 "nbformat": 4,
 "nbformat_minor": 5
}
