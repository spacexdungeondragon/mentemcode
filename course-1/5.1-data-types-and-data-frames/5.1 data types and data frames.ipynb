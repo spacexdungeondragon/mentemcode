{
 "cells": [
  {
   "cell_type": "markdown",
   "id": "832598fd",
   "metadata": {},
   "source": [
    "Create your own data frame\n",
    "Perform the following tasks In the \"main.py\" notebook:\n",
    "\n",
    "Import the pandas library as pd.\n",
    "\n",
    "Create a DataFrame from a dictionary where the keys are column names and the values are lists of data. The dictionary should contain your five favourite foods (\"Food\") their country of origin (\"Country\"), like Pizza and Italy.\n",
    "\n",
    "Print out the first 5 rows of your data frame using the head() function.\n",
    "\n",
    "Select a specific column from your data frame.\n",
    "\n",
    "If you get stuck, refer to \"main_solved.py\" to help with coding in \"main.py.\"\n",
    "\n",
    "Note: To complete this activity click the Submit/Mark button in the bottom right corner. These activities are for your own practice in a coding environment and are not assessed. If you have any questions about an activity, please ask your facilitator in a live session or on the Discussion board. "
   ]
  },
  {
   "cell_type": "code",
   "execution_count": 1,
   "id": "45acced5",
   "metadata": {},
   "outputs": [
    {
     "name": "stdout",
     "output_type": "stream",
     "text": [
      "       Country            Food\n",
      "0        Japan          Ongiri\n",
      "1      America           Steak\n",
      "2    Australia        Meat Pie\n",
      "3  New Zealand  Fish and Chips\n",
      "4       Russia         Borscht\n",
      "0            Ongiri\n",
      "1             Steak\n",
      "2          Meat Pie\n",
      "3    Fish and Chips\n",
      "4           Borscht\n",
      "Name: Food, dtype: object\n"
     ]
    }
   ],
   "source": [
    "import pandas as pd\n",
    "\n",
    "favorite_foods = {\n",
    "    \"Country\": [\"Japan\", \"America\", \"Australia\", \"New Zealand\", \"Russia\"],\n",
    "    \"Food\": [\"Ongiri\", \"Steak\", \"Meat Pie\", \"Fish and Chips\", \"Borscht\"],\n",
    "}\n",
    "\n",
    "# https://pandas.pydata.org/docs/reference/api/pandas.DataFrame.head.html#pandas.DataFrame.head\n",
    "df = pd.DataFrame(favorite_foods)\n",
    "\n",
    "print(df.head())\n",
    "\n",
    "print(df[\"Food\"])"
   ]
  },
  {
   "cell_type": "markdown",
   "id": "ce46c5e3",
   "metadata": {},
   "source": [
    "Create a data frame from external data\n",
    "Perform the following tasks in the \"main.py\" notebook:\n",
    "\n",
    "Use the csv file \"sample_data.csv\" for this activity. Firstly, import this file and create a data frame called my_data from it. \n",
    "\n",
    "Print out the first 2 rows of your data frame using the head(2) function.\n",
    "\n",
    "If you get stuck, refer to \"main_solved.py\" to help with coding in \"main.py.\"\n",
    "\n",
    "Note: To complete this activity click the Submit/Mark button in the bottom right corner. These activities are for your own practice in a coding environment and are not assessed. If you have any questions about an activity, please ask your facilitator in a live session or on the Discussion board. "
   ]
  },
  {
   "cell_type": "code",
   "execution_count": 2,
   "id": "f905cfeb",
   "metadata": {},
   "outputs": [
    {
     "name": "stdout",
     "output_type": "stream",
     "text": [
      "    Name  Age Country\n",
      "0  Alice   25     USA\n",
      "1    Bob   30      UK\n"
     ]
    }
   ],
   "source": [
    "import pandas as pd\n",
    "\n",
    "my_data = pd.read_csv('sample_data.csv')\n",
    "\n",
    "print(my_data.head(2))"
   ]
  }
 ],
 "metadata": {
  "kernelspec": {
   "display_name": "mentem",
   "language": "python",
   "name": "python3"
  },
  "language_info": {
   "codemirror_mode": {
    "name": "ipython",
    "version": 3
   },
   "file_extension": ".py",
   "mimetype": "text/x-python",
   "name": "python",
   "nbconvert_exporter": "python",
   "pygments_lexer": "ipython3",
   "version": "3.13.2"
  }
 },
 "nbformat": 4,
 "nbformat_minor": 5
}
