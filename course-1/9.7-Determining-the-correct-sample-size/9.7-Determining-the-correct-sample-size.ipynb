{
 "cells": [
  {
   "cell_type": "markdown",
   "id": "82567775",
   "metadata": {},
   "source": [
    "Sample size practice example\n",
    "It is time for you to test out your idea. The standard deviation between customers is 20%. You wish to test your idea at the 95% level of confidence. How many customers need to be included in your sample to detect an increase in sales of 5%? \n",
    "\n",
    "If you get stuck, refer to \"main_solved.py\" to help with coding in \"main.py\""
   ]
  },
  {
   "cell_type": "markdown",
   "id": "eba26258",
   "metadata": {},
   "source": []
  }
 ],
 "metadata": {
  "language_info": {
   "name": "python"
  }
 },
 "nbformat": 4,
 "nbformat_minor": 5
}
