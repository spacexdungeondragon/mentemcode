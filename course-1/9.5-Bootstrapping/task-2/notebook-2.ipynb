{
 "cells": [
  {
   "cell_type": "markdown",
   "id": "46642296",
   "metadata": {},
   "source": [
    "Task 2: Calculate the confidence interval for the Python example\n",
    "For the Python example Bootstrapping with Python, calculate the confidence interval for the mean values after bootstrapping.\n",
    "\n",
    "If you get stuck, refer to \"notebook_solved.ipynb\" to help with coding in \"notebook.ipynb.\""
   ]
  },
  {
   "cell_type": "markdown",
   "id": "a0b6d4ab",
   "metadata": {},
   "source": []
  }
 ],
 "metadata": {
  "language_info": {
   "name": "python"
  }
 },
 "nbformat": 4,
 "nbformat_minor": 5
}
