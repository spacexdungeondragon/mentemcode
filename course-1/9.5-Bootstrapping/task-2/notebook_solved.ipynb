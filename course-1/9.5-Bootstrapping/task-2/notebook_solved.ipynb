{
    "cells": [
        {
            "cell_type": "code",
            "execution_count": 1,
            "metadata": {},
            "outputs": [],
            "source": [
                "import numpy as np\n",
                "import matplotlib.pyplot as plt\n",
                "\n",
                "data = np.array([85, 90, 78, 92, 88, 76, 84, 89, 82, 87])\n",
                "# Number of resamples\n",
                "n_resamples = 1000\n",
                "\n",
                "# Create an empty array to store the means of resamples\n",
                "resample_means = []\n",
                "\n",
                "# Perform bootstrapping\n",
                "for _ in range(n_resamples):\n",
                "    resample = np.random.choice(data, len(data), replace=True)\n",
                "    resample_mean = np.mean(resample)\n",
                "    resample_means.append(resample_mean)\n"
            ]
        },
        {
            "cell_type": "code",
            "execution_count": 2,
            "metadata": {},
            "outputs": [
                {
                    "data": {
                        "text/plain": [
                            "(np.float64(82.1), np.float64(87.9))"
                        ]
                    },
                    "execution_count": 2,
                    "metadata": {},
                    "output_type": "execute_result"
                }
            ],
            "source": [
                "# Calculate confidence interval of 95%\n",
                "np.percentile(resample_means, 2.5), np.percentile(resample_means, 97.5)"
            ]
        }
    ],
    "metadata": {
        "kernelspec": {
            "display_name": "mentem",
            "language": "python",
            "name": "python3"
        },
        "language_info": {
            "codemirror_mode": {
                "name": "ipython",
                "version": 3
            },
            "file_extension": ".py",
            "mimetype": "text/x-python",
            "name": "python",
            "nbconvert_exporter": "python",
            "pygments_lexer": "ipython3",
            "version": "3.13.2"
        }
    },
    "nbformat": 4,
    "nbformat_minor": 2
}
