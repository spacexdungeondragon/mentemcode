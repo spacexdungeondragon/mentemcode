{
 "cells": [
  {
   "cell_type": "markdown",
   "id": "f030b3d9",
   "metadata": {},
   "source": [
    "Task 1: Perform bootsrapping using Python\n",
    "You will use a sample dataset of exam scores (data). Before starting, make sure you have the necessary libraries (NumPy and Matplotlib) installed. You can install them using pip (Ed already has pip installed) if you haven't already.\n",
    "\n",
    "In the following example, you will create 1000 resamples from the original sample. Notice that the length of each sample is the same as the original dataset (10), but because each observation can be selected more than once, you end up with bootstrap samples that vary from the original sample data.\n",
    "\n",
    "Then, we calculate the mean value of each resample. Finally, we plot the histogram of mean values. \n",
    "\n",
    "If you get stuck, refer to \"python_solved.ipynb\" to help with coding in \"python.ipynb.\""
   ]
  },
  {
   "cell_type": "markdown",
   "id": "b5a1e199",
   "metadata": {},
   "source": []
  }
 ],
 "metadata": {
  "language_info": {
   "name": "python"
  }
 },
 "nbformat": 4,
 "nbformat_minor": 5
}
