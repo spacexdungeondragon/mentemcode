{
 "cells": [
  {
   "cell_type": "markdown",
   "id": "81af1acb",
   "metadata": {},
   "source": [
    "Exercise 1: Age clasifier\n",
    "In the \"main.py\" notebook, write a program that asks the user for their age (integer) and classifies them into one of four categories:\n",
    "\n",
    "Infant (under 1 year old) -> prints 'You are an infant'\n",
    "\n",
    "Child (1-12 years old) -> prints 'You are a child'\n",
    "\n",
    "Teenager (13-19 years old) -> prints 'You are a teenager'\n",
    "\n",
    "Adult (20 years and above) -> prints 'You are an adult'\n",
    "\n",
    "If you get stuck, refer to \"main_solved.py\" to help with coding in \"main.py.\"\n",
    "\n",
    "Note: To complete this activity click the Submit/Mark button in the bottom right corner. These activities are for your own practice in a coding environment and are not assessed. If you have any questions about an activity, please ask your facilitator in a live session or on the Discussion board. "
   ]
  },
  {
   "cell_type": "code",
   "execution_count": 1,
   "id": "75d1402a",
   "metadata": {},
   "outputs": [
    {
     "name": "stdout",
     "output_type": "stream",
     "text": [
      "You are an adult\n"
     ]
    }
   ],
   "source": [
    "age = int(input(\"Enter your age: \"))\n",
    "\n",
    "if age < 1:\n",
    "    print(\"You are an infant\")\n",
    "elif age < 13:\n",
    "    print(\"You are a child\")\n",
    "elif age < 20:\n",
    "    print(\"You are a teenager\")\n",
    "else:\n",
    "    print(\"You are an adult\")"
   ]
  },
  {
   "cell_type": "markdown",
   "id": "10eb40ad",
   "metadata": {},
   "source": [
    "Exercise 2: Leap year checker\n",
    "In the \"main.py\" notebook, write a program that asks the user for a year and checks if it's a leap year. A leap year is exactly divisible by 4 except for century years (years ending with ‘00’). The century year is a leap year only if it is perfectly divisible by 400.\n",
    "\n",
    "The program should print of the following statements:\n",
    "\n",
    "\"<year> is not a leap year\"\n",
    "\n",
    "\"<year> is a leap year\"\n",
    "\n",
    "If you get stuck, refer to \"main_solved.py\" to help with coding in \"main.py.\"\n",
    "\n",
    "Note: To complete this activity click the Submit/Mark button in the bottom right corner. These activities are for your own practice in a coding environment and are not assessed. If you have any questions about an activity, please ask your facilitator in a live session or on the Discussion board. "
   ]
  },
  {
   "cell_type": "code",
   "execution_count": 2,
   "id": "7e2f02c0",
   "metadata": {},
   "outputs": [
    {
     "name": "stdout",
     "output_type": "stream",
     "text": [
      "2023 is not a leap year\n"
     ]
    }
   ],
   "source": [
    "year = int(input(\"Please enter a year: \"))\n",
    "\n",
    "if year % 100 == 0:\n",
    "    if year % 400 == 0:\n",
    "        print(f'{year} is a leap year')\n",
    "    else:\n",
    "        print(f'{year} is not a leap year')\n",
    "else:\n",
    "    if year % 4 == 0:\n",
    "        print(f'{year} is a leap year')\n",
    "    else:\n",
    "        print(f'{year} is not a leap year')"
   ]
  },
  {
   "cell_type": "markdown",
   "id": "5964c908",
   "metadata": {},
   "source": []
  }
 ],
 "metadata": {
  "kernelspec": {
   "display_name": "mentem",
   "language": "python",
   "name": "python3"
  },
  "language_info": {
   "codemirror_mode": {
    "name": "ipython",
    "version": 3
   },
   "file_extension": ".py",
   "mimetype": "text/x-python",
   "name": "python",
   "nbconvert_exporter": "python",
   "pygments_lexer": "ipython3",
   "version": "3.13.2"
  }
 },
 "nbformat": 4,
 "nbformat_minor": 5
}
