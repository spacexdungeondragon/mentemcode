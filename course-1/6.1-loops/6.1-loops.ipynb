{
 "cells": [
  {
   "cell_type": "markdown",
   "id": "3e338d65",
   "metadata": {},
   "source": [
    "For Loops\n",
    "Using a for loop, print out all even numbers from 1 to 10 (inclusive). Use the \"main.py\" notebook to complete this task. \n",
    "\n",
    "If you get stuck, refer to \"main_solved.py\" to help with coding in \"main.py.\"\n",
    "\n",
    "Note: To complete this activity click the Submit/Mark button in the bottom right corner. These activities are for your own practice in a coding environment and are not assessed. If you have any questions about an activity, please ask your facilitator in a live session or on the Discussion board. "
   ]
  },
  {
   "cell_type": "code",
   "execution_count": 1,
   "id": "19a4f02a",
   "metadata": {},
   "outputs": [
    {
     "name": "stdout",
     "output_type": "stream",
     "text": [
      "2\n",
      "4\n",
      "6\n",
      "8\n",
      "10\n"
     ]
    }
   ],
   "source": [
    "for x in range(1, 11):\n",
    "    if x % 2 == 0:\n",
    "        print(x)"
   ]
  },
  {
   "cell_type": "markdown",
   "id": "3203ca7d",
   "metadata": {},
   "source": [
    "While Loops\n",
    "Using a while loop, print out all even numbers from 1 to 10. Use the \"main.py\" notebook to complete this task. \n",
    "\n",
    "If you get stuck, refer to \"main_solved.py\" to help with coding in \"main.py.\"\n",
    "\n",
    "Note: To complete this activity, click the Submit/Mark button in the bottom right corner. These activities are for your own practice in a coding environment and are not assessed. If you have any questions about an activity, please ask your facilitator in a live session or on the Discussion board. "
   ]
  },
  {
   "cell_type": "code",
   "execution_count": 2,
   "id": "cc71856a",
   "metadata": {},
   "outputs": [
    {
     "name": "stdout",
     "output_type": "stream",
     "text": [
      "2\n",
      "4\n",
      "6\n",
      "8\n",
      "10\n"
     ]
    }
   ],
   "source": [
    "x = 1\n",
    "while x < 11:\n",
    "    if x % 2 == 0:\n",
    "        print(x)\n",
    "    x += 1"
   ]
  },
  {
   "cell_type": "markdown",
   "id": "c0039e81",
   "metadata": {},
   "source": [
    "Control statements 1: break statements\n",
    "Using the \"main.py\" notebook, create a for loop that iterates over a range from 1 to 20, but uses a break statement to stop the loop as soon as the iterator variable is greater than 10. Please print the current value on each iteration of the loop (1-11 should be printed)\n",
    "\n",
    "If you get stuck, refer to \"main_solved.py\" to help with coding in \"main.py.\"\n",
    "\n",
    "Note: To complete this activity click the Submit/Mark button in the bottom right corner. These activities are for your own practice in a coding environment and are not assessed. If you have any questions about an activity, please ask your facilitator in a live session or on the Discussion board. "
   ]
  },
  {
   "cell_type": "code",
   "execution_count": 3,
   "id": "b4c467bf",
   "metadata": {},
   "outputs": [
    {
     "name": "stdout",
     "output_type": "stream",
     "text": [
      "1\n",
      "2\n",
      "3\n",
      "4\n",
      "5\n",
      "6\n",
      "7\n",
      "8\n",
      "9\n",
      "10\n",
      "11\n"
     ]
    }
   ],
   "source": [
    "for x in range(1, 21):\n",
    "    print(x)\n",
    "    if x > 10:\n",
    "        break"
   ]
  },
  {
   "cell_type": "markdown",
   "id": "31654481",
   "metadata": {},
   "source": [
    "Control statements 2: Using continue\n",
    "Using the \"main.py\" notebook, create a while loop that normally would iterate from 1 to 20, but uses a continue statement to skip printing the number if it's even (all odd between numbers 1 - 20 should be printed)\n",
    "\n",
    "If you get stuck, refer to \"main_solved.py\" to help with coding in \"main.py.\"\n",
    "\n",
    "Note: To complete this activity click the Submit/Mark button in the bottom right corner. These activities are for your own practice in a coding environment and are not assessed. If you have any questions about an activity, please ask your facilitator in a live session or on the Discussion board. "
   ]
  },
  {
   "cell_type": "code",
   "execution_count": 4,
   "id": "d8393620",
   "metadata": {},
   "outputs": [
    {
     "name": "stdout",
     "output_type": "stream",
     "text": [
      "1\n",
      "3\n",
      "5\n",
      "7\n",
      "9\n",
      "11\n",
      "13\n",
      "15\n",
      "17\n",
      "19\n"
     ]
    }
   ],
   "source": [
    "x = 0\n",
    "while x < 20:\n",
    "    x += 1\n",
    "    if x % 2 == 0:\n",
    "        continue\n",
    "    print(x)"
   ]
  },
  {
   "cell_type": "markdown",
   "id": "9a15e8c9",
   "metadata": {},
   "source": [
    "Range functions 1\n",
    "Use range() in a for loop to print all odd numbers from 1 to 20. Use the \"main.py\" notebook to complete this task. \n",
    "\n",
    "If you get stuck, refer to \"main_solved.py\" to help with coding in \"main.py.\"\n",
    "\n",
    "Note: To complete this activity click the Submit/Mark button in the bottom right corner. These activities are for your own practice in a coding environment and are not assessed. If you have any questions about an activity, please ask your facilitator in a live session or on the Discussion board. "
   ]
  },
  {
   "cell_type": "code",
   "execution_count": 5,
   "id": "400420f6",
   "metadata": {},
   "outputs": [
    {
     "name": "stdout",
     "output_type": "stream",
     "text": [
      "1\n",
      "3\n",
      "5\n",
      "7\n",
      "9\n",
      "11\n",
      "13\n",
      "15\n",
      "17\n",
      "19\n"
     ]
    }
   ],
   "source": [
    "for x in range(1, 20):\n",
    "    if x % 2 != 0:\n",
    "        print(x)"
   ]
  },
  {
   "cell_type": "markdown",
   "id": "15a0dbf3",
   "metadata": {},
   "source": [
    "Range functions 2\n",
    "Use range() in a for loop to print numbers in decreasing order from 10 to 1. Use the \"main.py\" notebook to complete this task. \n",
    "\n",
    "If you get stuck, refer to \"main_solved.py\" to help with coding in \"main.py.\"\n",
    "\n",
    "Note: To complete this activity click the Submit/Mark button in the bottom right corner. These activities are for your own practice in a coding environment and are not assessed. If you have any questions about an activity, please ask your facilitator in a live session or on the Discussion board. "
   ]
  },
  {
   "cell_type": "code",
   "execution_count": 6,
   "id": "deb84c51",
   "metadata": {},
   "outputs": [
    {
     "name": "stdout",
     "output_type": "stream",
     "text": [
      "10\n",
      "9\n",
      "8\n",
      "7\n",
      "6\n",
      "5\n",
      "4\n",
      "3\n",
      "2\n",
      "1\n"
     ]
    }
   ],
   "source": [
    "for x in range(10, 0, -1):\n",
    "    print(x)"
   ]
  },
  {
   "cell_type": "code",
   "execution_count": null,
   "id": "c909d985",
   "metadata": {},
   "outputs": [],
   "source": []
  }
 ],
 "metadata": {
  "kernelspec": {
   "display_name": "mentem",
   "language": "python",
   "name": "python3"
  },
  "language_info": {
   "codemirror_mode": {
    "name": "ipython",
    "version": 3
   },
   "file_extension": ".py",
   "mimetype": "text/x-python",
   "name": "python",
   "nbconvert_exporter": "python",
   "pygments_lexer": "ipython3",
   "version": "3.13.2"
  }
 },
 "nbformat": 4,
 "nbformat_minor": 5
}
