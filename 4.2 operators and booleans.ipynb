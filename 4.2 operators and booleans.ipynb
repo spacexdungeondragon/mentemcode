{
 "cells": [
  {
   "cell_type": "markdown",
   "id": "c15d1a9e",
   "metadata": {},
   "source": [
    "Operators 1\n",
    "Now it’s your turn. Perform the following tasks in the \"main.py\" notebook:\n",
    "\n",
    "Create a variable x with the value 10 and a variable y with the value 20\n",
    "\n",
    "Divide y by x and subtract x from this number to generate the output -8, then use the print() function to print your results\n",
    "\n",
    "Use a comparison operator to determine whether y is greater than or equal to x, then use the print() function to print your results\n",
    "\n",
    "If you get stuck, refer to \"main_solved.py\" to help with coding in \"main.py.\"\n",
    "\n",
    "Note: To complete this activity click the Submit/Mark button in the bottom right corner. These activities are for your own practice in a coding environment and are not assessed. If you have any questions about an activity, please ask your facilitator in a live session or on the Discussion board. "
   ]
  },
  {
   "cell_type": "code",
   "execution_count": 1,
   "id": "6cc8c04f",
   "metadata": {},
   "outputs": [
    {
     "name": "stdout",
     "output_type": "stream",
     "text": [
      "-8.0\n",
      "True\n"
     ]
    }
   ],
   "source": [
    "# step 1\n",
    "x, y = 10, 20\n",
    "\n",
    "# step 2\n",
    "print((y / x) - x)  # -8\n",
    "\n",
    "# step 3\n",
    "print(y >= x)"
   ]
  },
  {
   "cell_type": "markdown",
   "id": "1d2ce5c6",
   "metadata": {},
   "source": [
    "Booleans\n",
    "The following code uses Booleans to test the logical conditions of an if-else statement. Change the values of is_raining and is_cold from True to False, one at a time, and run the code each time to generate different outputs."
   ]
  },
  {
   "cell_type": "code",
   "execution_count": 2,
   "id": "47f722bd",
   "metadata": {},
   "outputs": [
    {
     "name": "stdout",
     "output_type": "stream",
     "text": [
      "Bring an umbrella and a jacket!\n"
     ]
    }
   ],
   "source": [
    "is_raining = True\n",
    "is_cold = True\n",
    "\n",
    "if is_raining and is_cold:\n",
    "    print(\"Bring an umbrella and a jacket!\")\n",
    "elif is_raining and not is_cold:\n",
    "    print(\"Bring an umbrella!\")\n",
    "elif is_cold and not is_raining:\n",
    "    print(\"Bring a jacket!\")\n",
    "else:\n",
    "    print(\"Enjoy the sunshine!\")"
   ]
  },
  {
   "cell_type": "markdown",
   "id": "e6a5f5a2",
   "metadata": {},
   "source": [
    "Operators 2\n",
    "Perform the following tasks in the \"main.py\" notebook:\n",
    "\n",
    "Create a variable z with the values 'cat' and 'dog' assigned to it, and a variable q with the value 'dog' (don’t forget to use square brackets)\n",
    "\n",
    "Use an identity operator to determine that 'mouse' is not in the list assigned to z and then use the print() function to print your results\n",
    "\n",
    "If you get stuck, refer to \"main_solved.py\" to help with coding in \"main.py.\"\n",
    "\n",
    "Note: To complete this activity click the Submit/Mark button in the bottom right corner. These activities are for your own practice in a coding environment and are not assessed. If you have any questions about an activity, please ask your facilitator in a live session or on the Discussion board. "
   ]
  },
  {
   "cell_type": "code",
   "execution_count": 3,
   "id": "5bcc167f",
   "metadata": {},
   "outputs": [
    {
     "name": "stdout",
     "output_type": "stream",
     "text": [
      "True\n"
     ]
    }
   ],
   "source": [
    "# step 4\n",
    "z = ['cat', 'dog']\n",
    "q = 'dog'\n",
    "\n",
    "# step 5\n",
    "print('mouse' not in z)"
   ]
  }
 ],
 "metadata": {
  "kernelspec": {
   "display_name": "mentem",
   "language": "python",
   "name": "python3"
  },
  "language_info": {
   "codemirror_mode": {
    "name": "ipython",
    "version": 3
   },
   "file_extension": ".py",
   "mimetype": "text/x-python",
   "name": "python",
   "nbconvert_exporter": "python",
   "pygments_lexer": "ipython3",
   "version": "3.13.2"
  }
 },
 "nbformat": 4,
 "nbformat_minor": 5
}
