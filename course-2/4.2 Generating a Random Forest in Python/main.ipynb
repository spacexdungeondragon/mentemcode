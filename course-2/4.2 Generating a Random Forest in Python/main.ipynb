{
    "metadata": {
        "kernelspec": {
            "name": "python3",
            "display_name": "Python 3 (ipykernel)",
            "language": "python"
        }
    },
    "nbformat": 4,
    "nbformat_minor": 2,
    "cells": [
        {
            "attachments": {},
            "cell_type": "markdown",
            "metadata": {},
            "source": [
                "Here are the steps for the activity:\n",
                "\n",
                "1.  Run the initial code: Execute the given Python code to see the classification report. "
            ]
        },
        {
            "cell_type": "code",
            "execution_count": 1,
            "metadata": {},
            "outputs": [
                {
                    "name": "stdout",
                    "output_type": "stream",
                    "text": "Accuracy: 69.00%\nClassification Report:\n               precision    recall  f1-score   support\n\n         bad       0.42      0.25      0.31        57\n        good       0.74      0.87      0.80       143\n\n    accuracy                           0.69       200\n   macro avg       0.58      0.56      0.56       200\nweighted avg       0.65      0.69      0.66       200\n\n"
                },
                {
                    "name": "stderr",
                    "output_type": "stream",
                    "text": "/usr/lib/python3.11/site-packages/sklearn/datasets/_openml.py:1022: FutureWarning: The default value of `parser` will change from `'liac-arff'` to `'auto'` in 1.4. You can set `parser='auto'` to silence this warning. Therefore, an `ImportError` will be raised from 1.4 if the dataset is dense and pandas is not installed. Note that the pandas parser may return different data types. See the Notes Section in fetch_openml's API doc for details.\n  warn(\n"
                }
            ],
            "source": [
                "import pandas as pd\n",
                "from sklearn.model_selection import train_test_split\n",
                "from sklearn.ensemble import RandomForestClassifier\n",
                "from sklearn.metrics import accuracy_score, classification_report\n",
                "from sklearn.datasets import fetch_openml\n",
                "\n",
                "# Load the credit-g dataset (data is already downloaded for you so we use the data_id to fetch the cached data from the file system)\n",
                "data = fetch_openml(data_id=31)\n",
                "df = data.frame\n",
                "X = df[['duration', 'credit_amount', 'installment_commitment', 'age', 'existing_credits', 'num_dependents']] # Features\n",
                "y = df['class'] # Target variable (default payment)\n",
                "\n",
                "# Split the dataset into training and test sets\n",
                "X_train, X_test, y_train, y_test = train_test_split(X, y, test_size=0.2, random_state=40)\n",
                "\n",
                "# Build a Random Forest Classifier\n",
                "rf_model = RandomForestClassifier(n_estimators=100, random_state=40)\n",
                "\n",
                "# Train the classifier on the training data\n",
                "rf_model.fit(X_train, y_train)\n",
                "\n",
                "# Run the Model\n",
                "# Make predictions on the test set\n",
                "y_pred = rf_model.predict(X_test)\n",
                "\n",
                "# Evaluate the model's performance \n",
                "accuracy = accuracy_score(y_test, y_pred)\n",
                "print(f\"Accuracy: {accuracy * 100:.2f}%\")\n",
                "\n",
                "# Display classification report\n",
                "print(\"Classification Report:\\n\", classification_report(y_test, y_pred))"
            ]
        },
        {
            "attachments": {},
            "cell_type": "markdown",
            "metadata": {},
            "source": [
                "2.  Modify the n_estimators: change the value of this parameter from 100 to 2.  \n",
                "\n",
                "3.  Re-run the code: execute the modified code to see how this change affects the classification report. Take note of any changes in accuracy and other measures. \n",
                "\n",
                "4.  Observe and analyse: reflect on this change and analyse how changing the number of decision trees impact the accuracy measures (result of the model) \n",
                "\n",
                "In your observation, try to answer the following questions:\n",
                "\n",
                "- Is the accuracy improved or worsened? \n",
                "\n",
                "- How does the number of estimators (decision trees) affect the result? \n",
                "\n",
                "- What happens when this number has lower values compared to that of higher values?"
            ]
        }
    ]
}
