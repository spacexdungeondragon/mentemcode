{
    "metadata": {
        "kernelspec": {
            "name": "python3",
            "display_name": "Python 3 (ipykernel)",
            "language": "python"
        }
    },
    "nbformat": 4,
    "nbformat_minor": 2,
    "cells": [
        {
            "attachments": {},
            "cell_type": "markdown",
            "metadata": {},
            "source": [
                " \n",
                "### Here are the steps for the activity:\n",
                "\n",
                "1. Run the initial code: Execute the given Python code to see the model performance results (accuracy)\n",
                " "
            ]
        },
        {
            "cell_type": "code",
            "execution_count": 1,
            "metadata": {},
            "outputs": [
                {
                    "name": "stderr",
                    "output_type": "stream",
                    "text": "/usr/lib/python3.11/site-packages/sklearn/datasets/_openml.py:1022: FutureWarning: The default value of `parser` will change from `'liac-arff'` to `'auto'` in 1.4. You can set `parser='auto'` to silence this warning. Therefore, an `ImportError` will be raised from 1.4 if the dataset is dense and pandas is not installed. Note that the pandas parser may return different data types. See the Notes Section in fetch_openml's API doc for details.\n  warn(\n"
                },
                {
                    "name": "stdout",
                    "output_type": "stream",
                    "text": "Accuracy: 73.000\n"
                }
            ],
            "source": [
                "from sklearn.datasets import fetch_openml\n",
                "from sklearn.model_selection import train_test_split \n",
                "from sklearn.preprocessing import MinMaxScaler\n",
                "from sklearn.linear_model import LogisticRegression\n",
                "from sklearn.metrics import accuracy_score\n",
                " \n",
                "# Load the credit-g dataset (data is already downloaded for you so we use the data_id to fetch the cached data from the file system)\n",
                "data = fetch_openml(data_id=31)\n",
                "df = data.frame\n",
                "X = df[['duration', 'credit_amount', 'installment_commitment', 'age', 'existing_credits', 'num_dependents']]  # Features\n",
                "y = df['class']  # Target variable (default payment)\n",
                " \n",
                " \n",
                "# Standardize the dataset using MinMaxScaler\n",
                "scaler = MinMaxScaler()\n",
                "X = scaler.fit_transform(X)\n",
                " \n",
                "# Split the dataset into train and test sets\n",
                "X_train, X_test, y_train, y_test = train_test_split(X, y, test_size=0.2, random_state=1)\n",
                "\n",
                "# Fit a logistic regression model \n",
                "model = LogisticRegression()\n",
                "model.fit(X_train, y_train)\n",
                " \n",
                "# Make predictions on the test set\n",
                "y_pred = model.predict(X_test)\n",
                " \n",
                "# Evaluate the model's accuracy\n",
                "accuracy = accuracy_score(y_test, y_pred)\n",
                "print('Accuracy: %.3f' % (accuracy * 100))"
            ]
        },
        {
            "attachments": {},
            "cell_type": "markdown",
            "metadata": {},
            "source": [
                "2. Can you identify where the leakage problem in this code is happening. Modify the code so that this problem is solved, i.e. data leakage is prevented.\n",
                " \n",
                "3. Re-run the code: execute the modified code to see how this change affects the results. Take note of any changes in accuracy.\n",
                " \n",
                "4. Observe and analyse: reflect on this change and analyse how avoiding data leakage impacts the accuracy measure and helps in preventing overfitting.\n",
                " \n",
                "Please consider that even if the results of this change were not very different, this is the correct way of data processing.\n",
                " \n",
                "When you have completed the activity, return to the topic page in Canvas.\n",
                " "
            ]
        }
    ]
}
