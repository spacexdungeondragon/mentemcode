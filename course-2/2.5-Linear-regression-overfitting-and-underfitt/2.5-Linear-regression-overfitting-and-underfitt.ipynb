{
 "cells": [
  {
   "cell_type": "markdown",
   "id": "e3c73b96",
   "metadata": {},
   "source": [
    "Overfitting and under-fitting in linear regression\n",
    "In this exercise, you will practice identifying overfitting and underfitting in linear regression models using both holdout and cross-validation techniques. Use the \"main.ipynb\" notebook to perform this task. \n",
    "\n",
    "You will use the California Housing dataset available in the sklearn library.\n",
    "\n",
    "If you get stuck, refer to \"main_solved.ipynb\" to help with coding in \"main.ipynb.\"\n",
    "\n",
    "Note: To complete this activity click the Submit/Mark button in the bottom right corner. These activities are for your own practice in a coding environment and are not assessed. If you have any questions about an activity, please ask your facilitator in a live session or on the Discussion board. "
   ]
  },
  {
   "cell_type": "code",
   "execution_count": 1,
   "id": "547335cc",
   "metadata": {},
   "outputs": [
    {
     "name": "stdout",
     "output_type": "stream",
     "text": [
      "Training MSE:  0.5179331255246699\n",
      "Testing MSE:  0.5558915986952427\n",
      "Cross-Validation MSE:  0.558290171768681\n"
     ]
    }
   ],
   "source": [
    "from sklearn.datasets import fetch_california_housing\n",
    "from sklearn.model_selection import train_test_split, cross_val_score\n",
    "from sklearn.linear_model import LinearRegression\n",
    "from sklearn.metrics import mean_squared_error\n",
    " \n",
    "housing = fetch_california_housing()\n",
    "X, y = housing.data, housing.target\n",
    "\n",
    "X_train, X_test, y_train, y_test = train_test_split(X, y, test_size=0.2, random_state=42)\n",
    "\n",
    "model = LinearRegression()\n",
    "model.fit(X_train, y_train)\n",
    " \n",
    "y_train_pred = model.predict(X_train)\n",
    "mse_train = mean_squared_error(y_train, y_train_pred)\n",
    " \n",
    "y_test_pred = model.predict(X_test)\n",
    "mse_test = mean_squared_error(y_test, y_test_pred)\n",
    " \n",
    "print(\"Training MSE: \", mse_train)\n",
    "print(\"Testing MSE: \", mse_test)\n",
    " \n",
    "scores = cross_val_score(model, X, y, cv=5, scoring='neg_mean_squared_error')\n",
    "mse_cv = -scores.mean()  # scores are negative, so we negate them\n",
    "print(\"Cross-Validation MSE: \", mse_cv)"
   ]
  },
  {
   "cell_type": "markdown",
   "id": "c0d88c7a",
   "metadata": {},
   "source": []
  }
 ],
 "metadata": {
  "kernelspec": {
   "display_name": "mentem",
   "language": "python",
   "name": "python3"
  },
  "language_info": {
   "codemirror_mode": {
    "name": "ipython",
    "version": 3
   },
   "file_extension": ".py",
   "mimetype": "text/x-python",
   "name": "python",
   "nbconvert_exporter": "python",
   "pygments_lexer": "ipython3",
   "version": "3.13.2"
  }
 },
 "nbformat": 4,
 "nbformat_minor": 5
}
