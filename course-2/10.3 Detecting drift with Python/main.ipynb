{
    "metadata": {
        "kernelspec": {
            "name": "python3",
            "display_name": "Python 3 (ipykernel)",
            "language": "python"
        }
    },
    "nbformat": 4,
    "nbformat_minor": 2,
    "cells": [
        {
            "cell_type": "code",
            "execution_count": 1,
            "metadata": {},
            "outputs": [
                {
                    "ename": "NameError",
                    "evalue": "name '______' is not defined",
                    "output_type": "error",
                    "traceback": [
                        "\u001b[31m---------------------------------------------------------------------------\u001b[39m",
                        "\u001b[31mNameError\u001b[39m                                 Traceback (most recent call last)",
                        "\u001b[36mCell\u001b[39m\u001b[36m \u001b[39m\u001b[32mIn[1]\u001b[39m\u001b[32m, line 15\u001b[39m\n\u001b[32m     11\u001b[39m     \u001b[38;5;28;01mreturn\u001b[39;00m truncnorm(\n\u001b[32m     12\u001b[39m         (low - mean) / sd, (upp - mean) / sd, loc=mean, scale=sd)\n\u001b[32m     14\u001b[39m \u001b[38;5;66;03m# Complete this code to generate training data\u001b[39;00m\n\u001b[32m---\u003e \u001b[39m\u001b[32m15\u001b[39m train_data = get_truncated_normal(mean=\u001b[43m______\u001b[49m, sd=______, low=\u001b[32m0\u001b[39m, upp=______).rvs(______)\n\u001b[32m     17\u001b[39m \u001b[38;5;66;03m# Complete this code to generate the second sample \u001b[39;00m\n\u001b[32m     18\u001b[39m recent_data = get_truncated_normal(mean=______, sd=______, low=\u001b[32m0\u001b[39m, upp=______).rvs(______)\n",
                        "\u001b[31mNameError\u001b[39m: name '______' is not defined"
                    ]
                }
            ],
            "source": [
                "import numpy as np\n",
                "import matplotlib.pyplot as plt\n",
                "from scipy import stats\n",
                "from scipy.stats import truncnorm\n",
                "\n",
                "# Set random seed for reproducibility\n",
                "np.random.seed(123)\n",
                "\n",
                "# Define function to get truncated normal random numbers\n",
                "def get_truncated_normal(mean=0, sd=1, low=0, upp=10):\n",
                "    return truncnorm(\n",
                "        (low - mean) / sd, (upp - mean) / sd, loc=mean, scale=sd)\n",
                "\n",
                "# Complete this code to generate training data\n",
                "train_data = get_truncated_normal(mean=______, sd=______, low=0, upp=______).rvs(______)\n",
                "\n",
                "# Complete this code to generate the second sample \n",
                "recent_data = get_truncated_normal(mean=______, sd=______, low=0, upp=______).rvs(______)"
            ]
        },
        {
            "attachments": {},
            "cell_type": "markdown",
            "metadata": {},
            "source": [
                "2. Visualise the data: Use `matplotlib` or any other plotting library to create histograms of your two datasets. This will give you a visual sense of how different they are.\n",
                "\n",
                "3. Perform the K-S test: Use the `stats.ks_2samp` function to perform a K-S test on your two datasets. Remember, this function returns two values: The K-S statistic and the p-value. \n",
                ""
            ]
        },
        {
            "cell_type": "code",
            "execution_count": 0,
            "metadata": {},
            "outputs": [],
            "source": [
                "# Run the Kolmogorov-Smirnov test\n",
                "statistic, pvalue = stats.ks_2samp(train_data, recent_data)\n",
                "print(f'K-S statistic: {statistic}, p-value: {pvalue}')"
            ]
        },
        {
            "attachments": {},
            "cell_type": "markdown",
            "metadata": {},
            "source": [
                "4. Interpret the results: Based on the K-S statistic and the p-value, what can you conclude about your two datasets? Are they likely to come from the same distribution?\n",
                "\n",
                "Once you have completed these steps, compare your results with fellow students and discuss any interesting findings or challenges you encountered.\n",
                "\n",
                "*Note*: The purpose of this exercise is to give you hands-on experience with generating data and performing a K-S test. The data you generate is random, so there isn't a *right* answer. The key is to understand the process and be able to interpret the results.\n",
                "\n",
                "Return to the course to complete the knowledge check for this lesson."
            ]
        }
    ]
}
