{
 "cells": [
  {
   "cell_type": "markdown",
   "id": "fae9ebdb",
   "metadata": {},
   "source": [
    "Business revenue prediction\n",
    "In this activity, you will perform multiple linear regression using Python to predict a business's monthly revenue based on advertising spend in two different channels. Use the \"main.ipynb\" to complete this activity. \n",
    "\n",
    "Scenario\n",
    "\n",
    "Imagine a business that invests in advertising through both online and television channels. We want to understand how these investments influence the business's monthly revenue.\n",
    "\n",
    "If you get stuck, refer to \"main_solved.ipynb\" to help with coding in \"main.ipynb.\"\n",
    "\n",
    "Note: To complete this activity click the Submit/Mark button in the bottom right corner. These activities are for your own practice in a coding environment and are not assessed. If you have any questions about an activity, please ask your facilitator in a live session or on the Discussion board. "
   ]
  },
  {
   "cell_type": "markdown",
   "id": "3b6a380c",
   "metadata": {},
   "source": []
  }
 ],
 "metadata": {
  "language_info": {
   "name": "python"
  }
 },
 "nbformat": 4,
 "nbformat_minor": 5
}
