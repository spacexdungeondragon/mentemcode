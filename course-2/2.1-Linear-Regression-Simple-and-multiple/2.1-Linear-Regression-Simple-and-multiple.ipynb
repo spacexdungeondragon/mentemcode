{
 "cells": [
  {
   "cell_type": "markdown",
   "id": "6e8ed5b5",
   "metadata": {},
   "source": [
    "2.1 Exploring the influence of sample data\n",
    "Your task is to modify the sample data by changing the values of the independent variable (X) and the corresponding dependent variable (Y). Observe how adjusting the data points influences the regression line.\n",
    "\n",
    "Note: To complete this activity click the Submit/Mark button in the bottom right corner. These activities are for your own practice in a coding environment and are not assessed. If you have any questions about an activity, please ask your facilitator in a live session or on the Discussion board. "
   ]
  },
  {
   "cell_type": "code",
   "execution_count": null,
   "id": "dc40ef4c",
   "metadata": {
    "vscode": {
     "languageId": "plaintext"
    }
   },
   "outputs": [],
   "source": []
  },
  {
   "cell_type": "markdown",
   "id": "f5287574",
   "metadata": {},
   "source": []
  }
 ],
 "metadata": {
  "language_info": {
   "name": "python"
  }
 },
 "nbformat": 4,
 "nbformat_minor": 5
}
