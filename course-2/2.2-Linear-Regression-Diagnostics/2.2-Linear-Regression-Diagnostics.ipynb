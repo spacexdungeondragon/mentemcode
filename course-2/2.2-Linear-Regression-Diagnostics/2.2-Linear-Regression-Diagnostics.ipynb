{
 "cells": [
  {
   "cell_type": "markdown",
   "id": "01f89dd1",
   "metadata": {},
   "source": [
    "Creating multicollinearity datasets\n",
    "Your task is to create two datasets in Python, where one of them violates the no multicollinearity assumption. Then calculate the variance inflation factor (VIF) for both.\n",
    "\n",
    "Note: To complete this activity click the Submit/Mark button in the bottom right corner. These activities are for your own practice in a coding environment and are not assessed. If you have any questions about an activity, please ask your facilitator in a live session or on the Discussion board. "
   ]
  },
  {
   "cell_type": "markdown",
   "id": "54c0ce0b",
   "metadata": {},
   "source": []
  },
  {
   "cell_type": "markdown",
   "id": "f34158a3",
   "metadata": {},
   "source": []
  }
 ],
 "metadata": {
  "language_info": {
   "name": "python"
  }
 },
 "nbformat": 4,
 "nbformat_minor": 5
}
