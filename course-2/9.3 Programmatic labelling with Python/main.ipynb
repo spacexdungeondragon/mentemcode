{
    "metadata": {
        "kernelspec": {
            "name": "python3",
            "display_name": "Python 3 (ipykernel)",
            "language": "python"
        }
    },
    "nbformat": 4,
    "nbformat_minor": 2,
    "cells": [
        {
            "attachments": {},
            "cell_type": "markdown",
            "metadata": {},
            "source": [
                "Run the following code and use the `head()` function to view the results of the first 100 rows."
            ]
        },
        {
            "cell_type": "code",
            "execution_count": 2,
            "metadata": {},
            "outputs": [
                {
                    "name": "stdout",
                    "output_type": "stream",
                    "text": "    Unnamed: 0                                           car_name  \\\n0            0                    2017 Mercedes-Benz S-Class S400   \n1            1  2020 Nissan Magnite Turbo CVT XV Premium Opt BSVI   \n2            2                       2018 BMW X1 sDrive 20d xLine   \n3            3                           2019 Kia Seltos GTX Plus   \n4            4                    2019 Skoda Superb LK 1.8 TSI AT   \n..         ...                                                ...   \n95          95                        2018 Maruti Wagon R CNG LXI   \n96          96                        2009 Maruti Swift Dzire VDi   \n97          97                            2016 Hyundai i10 Sportz   \n98          98                              2018 Maruti Swift VXI   \n99          99                            2018 Mahindra XUV500 W5   \n\n   registration_month_year         insurance_type fuel_type  seats  \\\n0               2017-07-01          Comprehensive    Petrol      5   \n1               2021-01-01          Comprehensive    Petrol      5   \n2               2018-09-01          Comprehensive    Diesel      5   \n3               2019-12-01          Comprehensive    Petrol      5   \n4               2019-08-01          Comprehensive    Petrol      5   \n..                     ...                    ...       ...    ...   \n95              2018-02-01          Comprehensive       CNG      5   \n96              2009-03-01  Third Party insurance    Diesel      5   \n97              2016-07-01          Comprehensive    Petrol      5   \n98              2018-08-01          Comprehensive    Petrol      5   \n99              2018-07-01            Third Party    Diesel      7   \n\n    kms_driven     ownership transmission manufacturing_year  mileage(kmpl)  \\\n0        56000   First Owner    Automatic               2017           7.81   \n1        30615   First Owner    Automatic               2020          17.40   \n2        24000   First Owner    Automatic               2018          20.68   \n3        18378   First Owner       Manual               2019          16.50   \n4        44900   First Owner    Automatic               2019          14.67   \n..         ...           ...          ...                ...            ...   \n95       45000   First Owner       Manual               2018         998.00   \n96      100000   First Owner       Manual               2009          19.30   \n97       50000  Second Owner       Manual               2016          20.36   \n98       51000   First Owner       Manual               2018          22.00   \n99       62000  Second Owner       Manual               2018        2179.00   \n\n    engine(cc)  max_power(bhp)  torque(Nm)  market_value    age  \n0       2996.0          2996.0       333.0         63.75   80.0  \n1        999.0           999.0      9863.0          8.99   38.0  \n2       1995.0          1995.0       188.0         23.75   66.0  \n3       1353.0          1353.0     13808.0         13.56   51.0  \n4       1798.0          1798.0     17746.0         24.00   55.0  \n..         ...             ...         ...           ...    ...  \n95      5833.0          5833.0        78.0          4.45   73.0  \n96      1248.0          1248.0       739.0          2.00  180.0  \n97      1197.0          1197.0       789.0          3.45   92.0  \n98      1197.0          1197.0      8180.0          5.50   67.0  \n99     15287.0         15287.0       360.0          8.50   68.0  \n\n[100 rows x 16 columns]\n"
                }
            ],
            "source": [
                "import pandas as pd\n",
                "import numpy as np\n",
                "from datetime import datetime\n",
                "\n",
                "cars = pd.read_csv('cars.csv')\n",
                "# Convert 'registration_month_year' to string format for manipulation\n",
                "cars['registration_month_year'] = cars['registration_month_year'].astype(str)\n",
                "\n",
                "# Identify erroneous rows with only year\n",
                "mask_year_only = cars['registration_month_year'].str.match(r'^\\d{4}$', na=False)\n",
                "\n",
                "# Generate a random month (as string) for these rows\n",
                "random_months = pd.Series(np.random.choice(['Jan', 'Feb', 'Mar', 'Apr', 'May', 'Jun', 'Jul', 'Aug', 'Sep', 'Oct', 'Nov', 'Dec'], size=mask_year_only.sum()))\n",
                "\n",
                "# Append the random month and a dash to the last two digits of the year for erroneous rows\n",
                "cars.loc[mask_year_only, 'registration_month_year'] = random_months + '-' + cars.loc[mask_year_only, 'registration_month_year'].str[-2:]\n",
                "\n",
                "# Identify erroneous rows with 'Third Party insurance'\n",
                "mask_insurance = (cars['registration_month_year'] == 'Third Party insurance')\n",
                "\n",
                "# For these rows, make 'registration_month_year' equal to the last two digits of 'manufacturing_year' with a random month added\n",
                "random_months_insurance = pd.Series(np.random.choice(['Jan', 'Feb', 'Mar', 'Apr', 'May', 'Jun', 'Jul', 'Aug', 'Sep', 'Oct', 'Nov', 'Dec'], size=mask_insurance.sum()))\n",
                "cars.loc[mask_insurance, 'registration_month_year'] = random_months_insurance + '-' + cars.loc[mask_insurance, 'manufacturing_year'].astype(str).str[-2:]\n",
                "\n",
                "# Convert 'registration_month_year' back to datetime format\n",
                "cars['registration_month_year'] = pd.to_datetime(cars['registration_month_year'], format='%b-%y')\n",
                "\n",
                "# Define today's date\n",
                "today = pd.to_datetime('2024-03-01')\n",
                "\n",
                "# Calculate the age in years and months\n",
                "cars['age'] = (today.year - cars['registration_month_year'].dt.year) * 12 + today.month - cars['registration_month_year'].dt.month\n",
                "\n",
                "print(cars.head(100))"
            ]
        }
    ]
}
